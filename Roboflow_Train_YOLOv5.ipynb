{
  "nbformat": 4,
  "nbformat_minor": 0,
  "metadata": {
    "colab": {
      "provenance": [],
      "include_colab_link": true
    },
    "kernelspec": {
      "name": "python3",
      "display_name": "Python 3"
    },
    "accelerator": "GPU"
  },
  "cells": [
    {
      "cell_type": "markdown",
      "metadata": {
        "id": "view-in-github",
        "colab_type": "text"
      },
      "source": [
        "<a href=\"https://colab.research.google.com/github/safiatuddin18/Card-Number/blob/master/Roboflow_Train_YOLOv5.ipynb\" target=\"_parent\"><img src=\"https://colab.research.google.com/assets/colab-badge.svg\" alt=\"Open In Colab\"/></a>"
      ]
    },
    {
      "cell_type": "markdown",
      "metadata": {
        "id": "GD9gUQpaBxNa"
      },
      "source": [
        "# How to Train YOLOv5 on Custom Objects\n",
        "\n",
        "This tutorial is based on the [YOLOv5 repository](https://github.com/ultralytics/yolov5) by [Ultralytics](https://www.ultralytics.com/). This notebook shows training on **your own custom objects**. Many thanks to Ultralytics for putting this repository together - we hope that in combination with clean data management tools at Roboflow, this technologoy will become easily accessible to any developer wishing to use computer vision in their projects.\n",
        "\n",
        "### Accompanying Blog Post\n",
        "\n",
        "We recommend that you follow along in this notebook while reading the blog post on [how to train YOLOv5](https://blog.roboflow.ai/how-to-train-yolov5-on-a-custom-dataset/), concurrently.\n",
        "\n",
        "### Steps Covered in this Tutorial\n",
        "\n",
        "In this tutorial, we will walk through the steps required to train YOLOv5 on your custom objects. We use a [public blood cell detection dataset](https://public.roboflow.ai/object-detection/bccd), which is open source and free to use. You can also use this notebook on your own data.\n",
        "\n",
        "To train our detector we take the following steps:\n",
        "\n",
        "* Install YOLOv5 dependencies\n",
        "* Download custom YOLOv5 object detection data\n",
        "* Write our YOLOv5 Training configuration\n",
        "* Run YOLOv5 training\n",
        "* Evaluate YOLOv5 performance\n",
        "* Visualize YOLOv5 training data\n",
        "* Run YOLOv5 inference on test images\n",
        "* Export saved YOLOv5 weights for future inference\n",
        "\n",
        "\n",
        "\n",
        "### **About**\n",
        "\n",
        "[Roboflow](https://roboflow.com) enables teams to deploy custom computer vision models quickly and accurately. Convert data from to annotation format, assess dataset health, preprocess, augment, and more. It's free for your first 1000 source images.\n",
        "\n",
        "**Looking for a vision model available via API without hassle? Try Roboflow Train.**\n",
        "\n",
        "![Roboflow Wordmark](https://i.imgur.com/dcLNMhV.png)\n",
        "\n"
      ]
    },
    {
      "cell_type": "markdown",
      "metadata": {
        "id": "7mGmQbAO5pQb"
      },
      "source": [
        "#Install Dependencies\n",
        "\n",
        "_(Remember to choose GPU in Runtime if not already selected. Runtime --> Change Runtime Type --> Hardware accelerator --> GPU)_"
      ]
    },
    {
      "cell_type": "code",
      "metadata": {
        "colab": {
          "base_uri": "https://localhost:8080/"
        },
        "id": "Ie5uLDH4uzAp",
        "outputId": "e4599184-3908-46e9-bb15-970bcaaaed10"
      },
      "source": [
        "# clone YOLOv5 repository\n",
        "!git clone https://github.com/ultralytics/yolov5  # clone repo\n",
        "%cd yolov5\n",
        "!git reset --hard fbe67e465375231474a2ad80a4389efc77ecff99"
      ],
      "execution_count": 1,
      "outputs": [
        {
          "output_type": "stream",
          "name": "stdout",
          "text": [
            "Cloning into 'yolov5'...\n",
            "remote: Enumerating objects: 16003, done.\u001b[K\n",
            "remote: Counting objects: 100% (36/36), done.\u001b[K\n",
            "remote: Compressing objects: 100% (23/23), done.\u001b[K\n",
            "remote: Total 16003 (delta 21), reused 20 (delta 13), pack-reused 15967\u001b[K\n",
            "Receiving objects: 100% (16003/16003), 14.66 MiB | 24.21 MiB/s, done.\n",
            "Resolving deltas: 100% (10983/10983), done.\n",
            "/content/yolov5\n",
            "HEAD is now at fbe67e4 Fix `OMP_NUM_THREADS=1` for macOS (#8624)\n"
          ]
        }
      ]
    },
    {
      "cell_type": "code",
      "metadata": {
        "id": "wbvMlHd_QwMG",
        "colab": {
          "base_uri": "https://localhost:8080/"
        },
        "outputId": "cf962aa1-486f-4c77-a706-e35b0993d30e"
      },
      "source": [
        "# install dependencies as necessary\n",
        "!pip install -qr requirements.txt  # install dependencies (ignore errors)\n",
        "import torch\n",
        "\n",
        "from IPython.display import Image, clear_output  # to display images\n",
        "from utils.downloads import attempt_download  # to download models/datasets\n",
        "\n",
        "# clear_output()\n",
        "print('Setup complete. Using torch %s %s' % (torch.__version__, torch.cuda.get_device_properties(0) if torch.cuda.is_available() else 'CPU'))"
      ],
      "execution_count": 2,
      "outputs": [
        {
          "output_type": "stream",
          "name": "stdout",
          "text": [
            "\u001b[?25l     \u001b[90m━━━━━━━━━━━━━━━━━━━━━━━━━━━━━━━━━━━━━━━━\u001b[0m \u001b[32m0.0/1.6 MB\u001b[0m \u001b[31m?\u001b[0m eta \u001b[36m-:--:--\u001b[0m\r\u001b[2K     \u001b[91m━━━━\u001b[0m\u001b[90m╺\u001b[0m\u001b[90m━━━━━━━━━━━━━━━━━━━━━━━━━━━━━━━━━━━\u001b[0m \u001b[32m0.2/1.6 MB\u001b[0m \u001b[31m5.2 MB/s\u001b[0m eta \u001b[36m0:00:01\u001b[0m\r\u001b[2K     \u001b[91m━━━━━━━━━━━━━━━━\u001b[0m\u001b[91m╸\u001b[0m\u001b[90m━━━━━━━━━━━━━━━━━━━━━━━\u001b[0m \u001b[32m0.7/1.6 MB\u001b[0m \u001b[31m9.9 MB/s\u001b[0m eta \u001b[36m0:00:01\u001b[0m\r\u001b[2K     \u001b[91m━━━━━━━━━━━━━━━━━━━━━━━━━━━━━━━━━━━━\u001b[0m\u001b[91m╸\u001b[0m\u001b[90m━━━\u001b[0m \u001b[32m1.4/1.6 MB\u001b[0m \u001b[31m14.1 MB/s\u001b[0m eta \u001b[36m0:00:01\u001b[0m\r\u001b[2K     \u001b[90m━━━━━━━━━━━━━━━━━━━━━━━━━━━━━━━━━━━━━━━━\u001b[0m \u001b[32m1.6/1.6 MB\u001b[0m \u001b[31m12.5 MB/s\u001b[0m eta \u001b[36m0:00:00\u001b[0m\n",
            "\u001b[?25hSetup complete. Using torch 2.0.1+cu118 _CudaDeviceProperties(name='Tesla T4', major=7, minor=5, total_memory=15101MB, multi_processor_count=40)\n"
          ]
        }
      ]
    },
    {
      "cell_type": "markdown",
      "metadata": {
        "id": "SDIhrBF0sPaM"
      },
      "source": [
        "# Download Correctly Formatted Custom Dataset\n",
        "\n",
        "We'll download our dataset from Roboflow. Use the \"**YOLOv5 PyTorch**\" export format. Note that the Ultralytics implementation calls for a YAML file defining where your training and test data is. The Roboflow export also writes this format for us.\n",
        "\n",
        "To get your data into Roboflow, follow the [Getting Started Guide](https://blog.roboflow.ai/getting-started-with-roboflow/)."
      ]
    },
    {
      "cell_type": "markdown",
      "metadata": {
        "id": "vDeebwqS9JbZ"
      },
      "source": [
        "\n",
        "\n",
        "![YOLOv5 PyTorch export](https://i.imgur.com/5vr9G2u.png)\n"
      ]
    },
    {
      "cell_type": "code",
      "metadata": {
        "id": "Knxi2ncxWffW",
        "colab": {
          "base_uri": "https://localhost:8080/",
          "height": 1000
        },
        "outputId": "1eeb9b5c-607c-45f7-ca9c-18236f24c231"
      },
      "source": [
        "!pip install roboflow\n",
        "\n",
        "from roboflow import Roboflow\n",
        "rf = Roboflow(api_key=\"O1BLo7nBiQKq1YMGHgpm\")\n",
        "project = rf.workspace(\"deep-learning-mqq34\").project(\"apples-detection-xkhog\")\n",
        "dataset = project.version(4).download(\"yolov5\")"
      ],
      "execution_count": 3,
      "outputs": [
        {
          "output_type": "stream",
          "name": "stdout",
          "text": [
            "Collecting roboflow\n",
            "  Downloading roboflow-1.1.7-py3-none-any.whl (58 kB)\n",
            "\u001b[?25l     \u001b[90m━━━━━━━━━━━━━━━━━━━━━━━━━━━━━━━━━━━━━━━━\u001b[0m \u001b[32m0.0/58.8 kB\u001b[0m \u001b[31m?\u001b[0m eta \u001b[36m-:--:--\u001b[0m\r\u001b[2K     \u001b[90m━━━━━━━━━━━━━━━━━━━━━━━━━━━━━━━━━━━━━━━━\u001b[0m \u001b[32m58.8/58.8 kB\u001b[0m \u001b[31m2.0 MB/s\u001b[0m eta \u001b[36m0:00:00\u001b[0m\n",
            "\u001b[?25hCollecting certifi==2022.12.7 (from roboflow)\n",
            "  Downloading certifi-2022.12.7-py3-none-any.whl (155 kB)\n",
            "\u001b[2K     \u001b[90m━━━━━━━━━━━━━━━━━━━━━━━━━━━━━━━━━━━━━━━\u001b[0m \u001b[32m155.3/155.3 kB\u001b[0m \u001b[31m8.0 MB/s\u001b[0m eta \u001b[36m0:00:00\u001b[0m\n",
            "\u001b[?25hCollecting chardet==4.0.0 (from roboflow)\n",
            "  Downloading chardet-4.0.0-py2.py3-none-any.whl (178 kB)\n",
            "\u001b[2K     \u001b[90m━━━━━━━━━━━━━━━━━━━━━━━━━━━━━━━━━━━━━━━\u001b[0m \u001b[32m178.7/178.7 kB\u001b[0m \u001b[31m9.6 MB/s\u001b[0m eta \u001b[36m0:00:00\u001b[0m\n",
            "\u001b[?25hCollecting cycler==0.10.0 (from roboflow)\n",
            "  Downloading cycler-0.10.0-py2.py3-none-any.whl (6.5 kB)\n",
            "Collecting idna==2.10 (from roboflow)\n",
            "  Downloading idna-2.10-py2.py3-none-any.whl (58 kB)\n",
            "\u001b[2K     \u001b[90m━━━━━━━━━━━━━━━━━━━━━━━━━━━━━━━━━━━━━━━━\u001b[0m \u001b[32m58.8/58.8 kB\u001b[0m \u001b[31m6.8 MB/s\u001b[0m eta \u001b[36m0:00:00\u001b[0m\n",
            "\u001b[?25hRequirement already satisfied: kiwisolver>=1.3.1 in /usr/local/lib/python3.10/dist-packages (from roboflow) (1.4.5)\n",
            "Requirement already satisfied: matplotlib in /usr/local/lib/python3.10/dist-packages (from roboflow) (3.7.1)\n",
            "Requirement already satisfied: numpy>=1.18.5 in /usr/local/lib/python3.10/dist-packages (from roboflow) (1.23.5)\n",
            "Collecting opencv-python-headless==4.8.0.74 (from roboflow)\n",
            "  Downloading opencv_python_headless-4.8.0.74-cp37-abi3-manylinux_2_17_x86_64.manylinux2014_x86_64.whl (49.1 MB)\n",
            "\u001b[2K     \u001b[90m━━━━━━━━━━━━━━━━━━━━━━━━━━━━━━━━━━━━━━━━\u001b[0m \u001b[32m49.1/49.1 MB\u001b[0m \u001b[31m28.9 MB/s\u001b[0m eta \u001b[36m0:00:00\u001b[0m\n",
            "\u001b[?25hRequirement already satisfied: Pillow>=7.1.2 in /usr/local/lib/python3.10/dist-packages (from roboflow) (9.4.0)\n",
            "Collecting pyparsing==2.4.7 (from roboflow)\n",
            "  Downloading pyparsing-2.4.7-py2.py3-none-any.whl (67 kB)\n",
            "\u001b[2K     \u001b[90m━━━━━━━━━━━━━━━━━━━━━━━━━━━━━━━━━━━━━━━━\u001b[0m \u001b[32m67.8/67.8 kB\u001b[0m \u001b[31m9.7 MB/s\u001b[0m eta \u001b[36m0:00:00\u001b[0m\n",
            "\u001b[?25hRequirement already satisfied: python-dateutil in /usr/local/lib/python3.10/dist-packages (from roboflow) (2.8.2)\n",
            "Collecting python-dotenv (from roboflow)\n",
            "  Downloading python_dotenv-1.0.0-py3-none-any.whl (19 kB)\n",
            "Requirement already satisfied: requests in /usr/local/lib/python3.10/dist-packages (from roboflow) (2.31.0)\n",
            "Requirement already satisfied: six in /usr/local/lib/python3.10/dist-packages (from roboflow) (1.16.0)\n",
            "Collecting supervision (from roboflow)\n",
            "  Downloading supervision-0.15.0-py3-none-any.whl (69 kB)\n",
            "\u001b[2K     \u001b[90m━━━━━━━━━━━━━━━━━━━━━━━━━━━━━━━━━━━━━━━━\u001b[0m \u001b[32m69.0/69.0 kB\u001b[0m \u001b[31m8.4 MB/s\u001b[0m eta \u001b[36m0:00:00\u001b[0m\n",
            "\u001b[?25hRequirement already satisfied: urllib3>=1.26.6 in /usr/local/lib/python3.10/dist-packages (from roboflow) (2.0.6)\n",
            "Requirement already satisfied: tqdm>=4.41.0 in /usr/local/lib/python3.10/dist-packages (from roboflow) (4.66.1)\n",
            "Requirement already satisfied: PyYAML>=5.3.1 in /usr/local/lib/python3.10/dist-packages (from roboflow) (6.0.1)\n",
            "Collecting requests-toolbelt (from roboflow)\n",
            "  Downloading requests_toolbelt-1.0.0-py2.py3-none-any.whl (54 kB)\n",
            "\u001b[2K     \u001b[90m━━━━━━━━━━━━━━━━━━━━━━━━━━━━━━━━━━━━━━━━\u001b[0m \u001b[32m54.5/54.5 kB\u001b[0m \u001b[31m4.3 MB/s\u001b[0m eta \u001b[36m0:00:00\u001b[0m\n",
            "\u001b[?25hRequirement already satisfied: contourpy>=1.0.1 in /usr/local/lib/python3.10/dist-packages (from matplotlib->roboflow) (1.1.1)\n",
            "Requirement already satisfied: fonttools>=4.22.0 in /usr/local/lib/python3.10/dist-packages (from matplotlib->roboflow) (4.43.0)\n",
            "Requirement already satisfied: packaging>=20.0 in /usr/local/lib/python3.10/dist-packages (from matplotlib->roboflow) (23.2)\n",
            "Requirement already satisfied: charset-normalizer<4,>=2 in /usr/local/lib/python3.10/dist-packages (from requests->roboflow) (3.3.0)\n",
            "Requirement already satisfied: scipy<2.0.0,>=1.9.0 in /usr/local/lib/python3.10/dist-packages (from supervision->roboflow) (1.11.3)\n",
            "Installing collected packages: python-dotenv, pyparsing, opencv-python-headless, idna, cycler, chardet, certifi, supervision, requests-toolbelt, roboflow\n",
            "  Attempting uninstall: pyparsing\n",
            "    Found existing installation: pyparsing 3.1.1\n",
            "    Uninstalling pyparsing-3.1.1:\n",
            "      Successfully uninstalled pyparsing-3.1.1\n",
            "  Attempting uninstall: opencv-python-headless\n",
            "    Found existing installation: opencv-python-headless 4.8.1.78\n",
            "    Uninstalling opencv-python-headless-4.8.1.78:\n",
            "      Successfully uninstalled opencv-python-headless-4.8.1.78\n",
            "  Attempting uninstall: idna\n",
            "    Found existing installation: idna 3.4\n",
            "    Uninstalling idna-3.4:\n",
            "      Successfully uninstalled idna-3.4\n",
            "  Attempting uninstall: cycler\n",
            "    Found existing installation: cycler 0.12.0\n",
            "    Uninstalling cycler-0.12.0:\n",
            "      Successfully uninstalled cycler-0.12.0\n",
            "  Attempting uninstall: chardet\n",
            "    Found existing installation: chardet 5.2.0\n",
            "    Uninstalling chardet-5.2.0:\n",
            "      Successfully uninstalled chardet-5.2.0\n",
            "  Attempting uninstall: certifi\n",
            "    Found existing installation: certifi 2023.7.22\n",
            "    Uninstalling certifi-2023.7.22:\n",
            "      Successfully uninstalled certifi-2023.7.22\n",
            "Successfully installed certifi-2022.12.7 chardet-4.0.0 cycler-0.10.0 idna-2.10 opencv-python-headless-4.8.0.74 pyparsing-2.4.7 python-dotenv-1.0.0 requests-toolbelt-1.0.0 roboflow-1.1.7 supervision-0.15.0\n"
          ]
        },
        {
          "output_type": "display_data",
          "data": {
            "application/vnd.colab-display-data+json": {
              "pip_warning": {
                "packages": [
                  "certifi",
                  "chardet",
                  "cycler",
                  "idna",
                  "pyparsing"
                ]
              }
            }
          },
          "metadata": {}
        },
        {
          "output_type": "stream",
          "name": "stdout",
          "text": [
            "loading Roboflow workspace...\n",
            "loading Roboflow project...\n"
          ]
        },
        {
          "output_type": "stream",
          "name": "stderr",
          "text": [
            "Downloading Dataset Version Zip in Apples-Detection-4 to yolov5pytorch:: 100%|██████████| 130382/130382 [00:05<00:00, 23363.02it/s]"
          ]
        },
        {
          "output_type": "stream",
          "name": "stdout",
          "text": [
            "\n"
          ]
        },
        {
          "output_type": "stream",
          "name": "stderr",
          "text": [
            "\n",
            "Extracting Dataset Version Zip to Apples-Detection-4 in yolov5pytorch:: 100%|██████████| 7446/7446 [00:01<00:00, 7391.09it/s]\n"
          ]
        }
      ]
    },
    {
      "cell_type": "code",
      "metadata": {
        "id": "Ug_PhK1oqwQA",
        "colab": {
          "base_uri": "https://localhost:8080/"
        },
        "outputId": "cd560a76-1e08-43a5-9d56-fbfa1c9e4f63"
      },
      "source": [
        "%cd /content/yolov5\n",
        "#after following the link above, recieve python code with these fields filled in\n",
        "#from roboflow import Roboflow\n",
        "#rf = Roboflow(api_key=\"YOUR API KEY HERE\")\n",
        "#project = rf.workspace().project(\"YOUR PROJECT\")\n",
        "#dataset = project.version(\"YOUR VERSION\").download(\"yolov5\")"
      ],
      "execution_count": 5,
      "outputs": [
        {
          "output_type": "stream",
          "name": "stdout",
          "text": [
            "/content/yolov5\n"
          ]
        }
      ]
    },
    {
      "cell_type": "code",
      "metadata": {
        "id": "ZZ3DmmGQztJj",
        "colab": {
          "base_uri": "https://localhost:8080/"
        },
        "outputId": "1bab34de-7e74-4b35-9486-55932f42ac0d"
      },
      "source": [
        "# this is the YAML file Roboflow wrote for us that we're loading into this notebook with our data\n",
        "%cat {dataset.location}/data.yaml"
      ],
      "execution_count": 6,
      "outputs": [
        {
          "output_type": "stream",
          "name": "stdout",
          "text": [
            "names:\n",
            "- Apple\n",
            "nc: 1\n",
            "roboflow:\n",
            "  license: CC BY 4.0\n",
            "  project: apples-detection-xkhog\n",
            "  url: https://universe.roboflow.com/deep-learning-mqq34/apples-detection-xkhog/dataset/4\n",
            "  version: 4\n",
            "  workspace: deep-learning-mqq34\n",
            "test: ../test/images\n",
            "train: Apples-Detection-4/train/images\n",
            "val: Apples-Detection-4/valid/images\n"
          ]
        }
      ]
    },
    {
      "cell_type": "markdown",
      "metadata": {
        "id": "UwJx-2NHsYxT"
      },
      "source": [
        "# Define Model Configuration and Architecture\n",
        "\n",
        "We will write a yaml script that defines the parameters for our model like the number of classes, anchors, and each layer.\n",
        "\n",
        "You do not need to edit these cells, but you may."
      ]
    },
    {
      "cell_type": "code",
      "metadata": {
        "id": "dOPn9wjOAwwK"
      },
      "source": [
        "# define number of classes based on YAML\n",
        "import yaml\n",
        "with open(dataset.location + \"/data.yaml\", 'r') as stream:\n",
        "    num_classes = str(yaml.safe_load(stream)['nc'])"
      ],
      "execution_count": 7,
      "outputs": []
    },
    {
      "cell_type": "code",
      "metadata": {
        "id": "1Rvt5wilnDyX",
        "colab": {
          "base_uri": "https://localhost:8080/"
        },
        "outputId": "6eb035d9-19e4-486c-c7a3-3d4852060038"
      },
      "source": [
        "#this is the model configuration we will use for our tutorial\n",
        "%cat /content/yolov5/models/yolov5s.yaml"
      ],
      "execution_count": 8,
      "outputs": [
        {
          "output_type": "stream",
          "name": "stdout",
          "text": [
            "# YOLOv5 🚀 by Ultralytics, GPL-3.0 license\n",
            "\n",
            "# Parameters\n",
            "nc: 80  # number of classes\n",
            "depth_multiple: 0.33  # model depth multiple\n",
            "width_multiple: 0.50  # layer channel multiple\n",
            "anchors:\n",
            "  - [10,13, 16,30, 33,23]  # P3/8\n",
            "  - [30,61, 62,45, 59,119]  # P4/16\n",
            "  - [116,90, 156,198, 373,326]  # P5/32\n",
            "\n",
            "# YOLOv5 v6.0 backbone\n",
            "backbone:\n",
            "  # [from, number, module, args]\n",
            "  [[-1, 1, Conv, [64, 6, 2, 2]],  # 0-P1/2\n",
            "   [-1, 1, Conv, [128, 3, 2]],  # 1-P2/4\n",
            "   [-1, 3, C3, [128]],\n",
            "   [-1, 1, Conv, [256, 3, 2]],  # 3-P3/8\n",
            "   [-1, 6, C3, [256]],\n",
            "   [-1, 1, Conv, [512, 3, 2]],  # 5-P4/16\n",
            "   [-1, 9, C3, [512]],\n",
            "   [-1, 1, Conv, [1024, 3, 2]],  # 7-P5/32\n",
            "   [-1, 3, C3, [1024]],\n",
            "   [-1, 1, SPPF, [1024, 5]],  # 9\n",
            "  ]\n",
            "\n",
            "# YOLOv5 v6.0 head\n",
            "head:\n",
            "  [[-1, 1, Conv, [512, 1, 1]],\n",
            "   [-1, 1, nn.Upsample, [None, 2, 'nearest']],\n",
            "   [[-1, 6], 1, Concat, [1]],  # cat backbone P4\n",
            "   [-1, 3, C3, [512, False]],  # 13\n",
            "\n",
            "   [-1, 1, Conv, [256, 1, 1]],\n",
            "   [-1, 1, nn.Upsample, [None, 2, 'nearest']],\n",
            "   [[-1, 4], 1, Concat, [1]],  # cat backbone P3\n",
            "   [-1, 3, C3, [256, False]],  # 17 (P3/8-small)\n",
            "\n",
            "   [-1, 1, Conv, [256, 3, 2]],\n",
            "   [[-1, 14], 1, Concat, [1]],  # cat head P4\n",
            "   [-1, 3, C3, [512, False]],  # 20 (P4/16-medium)\n",
            "\n",
            "   [-1, 1, Conv, [512, 3, 2]],\n",
            "   [[-1, 10], 1, Concat, [1]],  # cat head P5\n",
            "   [-1, 3, C3, [1024, False]],  # 23 (P5/32-large)\n",
            "\n",
            "   [[17, 20, 23], 1, Detect, [nc, anchors]],  # Detect(P3, P4, P5)\n",
            "  ]\n"
          ]
        }
      ]
    },
    {
      "cell_type": "code",
      "metadata": {
        "id": "t14hhyqdmw6O"
      },
      "source": [
        "#customize iPython writefile so we can write variables\n",
        "from IPython.core.magic import register_line_cell_magic\n",
        "\n",
        "@register_line_cell_magic\n",
        "def writetemplate(line, cell):\n",
        "    with open(line, 'w') as f:\n",
        "        f.write(cell.format(**globals()))"
      ],
      "execution_count": 9,
      "outputs": []
    },
    {
      "cell_type": "code",
      "metadata": {
        "id": "uDxebz13RdRA"
      },
      "source": [
        "%%writetemplate /content/yolov5/models/custom_yolov5s.yaml\n",
        "\n",
        "# parameters\n",
        "nc: {num_classes}  # number of classes\n",
        "depth_multiple: 0.33  # model depth multiple\n",
        "width_multiple: 0.50  # layer channel multiple\n",
        "\n",
        "# anchors\n",
        "anchors:\n",
        "  - [10,13, 16,30, 33,23]  # P3/8\n",
        "  - [30,61, 62,45, 59,119]  # P4/16\n",
        "  - [116,90, 156,198, 373,326]  # P5/32\n",
        "\n",
        "# YOLOv5 backbone\n",
        "backbone:\n",
        "  # [from, number, module, args]\n",
        "  [[-1, 1, Focus, [64, 3]],  # 0-P1/2\n",
        "   [-1, 1, Conv, [128, 3, 2]],  # 1-P2/4\n",
        "   [-1, 3, BottleneckCSP, [128]],\n",
        "   [-1, 1, Conv, [256, 3, 2]],  # 3-P3/8\n",
        "   [-1, 9, BottleneckCSP, [256]],\n",
        "   [-1, 1, Conv, [512, 3, 2]],  # 5-P4/16\n",
        "   [-1, 9, BottleneckCSP, [512]],\n",
        "   [-1, 1, Conv, [1024, 3, 2]],  # 7-P5/32\n",
        "   [-1, 1, SPP, [1024, [5, 9, 13]]],\n",
        "   [-1, 3, BottleneckCSP, [1024, False]],  # 9\n",
        "  ]\n",
        "\n",
        "# YOLOv5 head\n",
        "head:\n",
        "  [[-1, 1, Conv, [512, 1, 1]],\n",
        "   [-1, 1, nn.Upsample, [None, 2, 'nearest']],\n",
        "   [[-1, 6], 1, Concat, [1]],  # cat backbone P4\n",
        "   [-1, 3, BottleneckCSP, [512, False]],  # 13\n",
        "\n",
        "   [-1, 1, Conv, [256, 1, 1]],\n",
        "   [-1, 1, nn.Upsample, [None, 2, 'nearest']],\n",
        "   [[-1, 4], 1, Concat, [1]],  # cat backbone P3\n",
        "   [-1, 3, BottleneckCSP, [256, False]],  # 17 (P3/8-small)\n",
        "\n",
        "   [-1, 1, Conv, [256, 3, 2]],\n",
        "   [[-1, 14], 1, Concat, [1]],  # cat head P4\n",
        "   [-1, 3, BottleneckCSP, [512, False]],  # 20 (P4/16-medium)\n",
        "\n",
        "   [-1, 1, Conv, [512, 3, 2]],\n",
        "   [[-1, 10], 1, Concat, [1]],  # cat head P5\n",
        "   [-1, 3, BottleneckCSP, [1024, False]],  # 23 (P5/32-large)\n",
        "\n",
        "   [[17, 20, 23], 1, Detect, [nc, anchors]],  # Detect(P3, P4, P5)\n",
        "  ]"
      ],
      "execution_count": 10,
      "outputs": []
    },
    {
      "cell_type": "markdown",
      "metadata": {
        "id": "VUOiNLtMP5aG"
      },
      "source": [
        "# Train Custom YOLOv5 Detector\n",
        "\n",
        "### Next, we'll fire off training!\n",
        "\n",
        "\n",
        "Here, we are able to pass a number of arguments:\n",
        "- **img:** define input image size\n",
        "- **batch:** determine batch size\n",
        "- **epochs:** define the number of training epochs. (Note: often, 3000+ are common here!)\n",
        "- **data:** set the path to our yaml file\n",
        "- **cfg:** specify our model configuration\n",
        "- **weights:** specify a custom path to weights. (Note: you can download weights from the Ultralytics Google Drive [folder](https://drive.google.com/open?id=1Drs_Aiu7xx6S-ix95f9kNsA6ueKRpN2J))\n",
        "- **name:** result names\n",
        "- **nosave:** only save the final checkpoint\n",
        "- **cache:** cache images for faster training"
      ]
    },
    {
      "cell_type": "code",
      "source": [
        "!unzip \"/content/Apple.zip\""
      ],
      "metadata": {
        "colab": {
          "base_uri": "https://localhost:8080/"
        },
        "id": "7Z5o8yQkjMAz",
        "outputId": "8c48817d-f797-4222-d926-34dacb3760bd"
      },
      "execution_count": 12,
      "outputs": [
        {
          "output_type": "stream",
          "name": "stdout",
          "text": [
            "unzip:  cannot find or open /content/Apple.zip, /content/Apple.zip.zip or /content/Apple.zip.ZIP.\n"
          ]
        }
      ]
    },
    {
      "cell_type": "code",
      "metadata": {
        "id": "1NcFxRcFdJ_O",
        "colab": {
          "base_uri": "https://localhost:8080/"
        },
        "outputId": "d6710d87-fad3-49db-eb04-f2f6f494c03a"
      },
      "source": [
        "# train yolov5s on custom data for 100 epochs\n",
        "# time its performance\n",
        "%%time\n",
        "%cd /content/yolov5/\n",
        "!python train.py --img 416 --batch 16 --epochs 20 --data /content/yolov5/data/data.yaml --cfg ./models/custom_yolov5s.yaml --weights '' --name yolov5s_results  --cache"
      ],
      "execution_count": 13,
      "outputs": [
        {
          "output_type": "stream",
          "name": "stdout",
          "text": [
            "/content/yolov5\n",
            "2023-10-06 17:06:19.541137: I tensorflow/core/platform/cpu_feature_guard.cc:182] This TensorFlow binary is optimized to use available CPU instructions in performance-critical operations.\n",
            "To enable the following instructions: AVX2 AVX512F FMA, in other operations, rebuild TensorFlow with the appropriate compiler flags.\n",
            "2023-10-06 17:06:20.887630: W tensorflow/compiler/tf2tensorrt/utils/py_utils.cc:38] TF-TRT Warning: Could not find TensorRT\n",
            "\u001b[34m\u001b[1mtrain: \u001b[0mweights=, cfg=./models/custom_yolov5s.yaml, data=/content/yolov5/data/data.yaml, hyp=data/hyps/hyp.scratch-low.yaml, epochs=20, batch_size=16, imgsz=416, rect=False, resume=False, nosave=False, noval=False, noautoanchor=False, noplots=False, evolve=None, bucket=, cache=ram, image_weights=False, device=, multi_scale=False, single_cls=False, optimizer=SGD, sync_bn=False, workers=8, project=runs/train, name=yolov5s_results, exist_ok=False, quad=False, cos_lr=False, label_smoothing=0.0, patience=100, freeze=[0], save_period=-1, seed=0, local_rank=-1, entity=None, upload_dataset=False, bbox_interval=-1, artifact_alias=latest\n",
            "\u001b[34m\u001b[1mgithub: \u001b[0m⚠️ YOLOv5 is out of date by 590 commits. Use `git pull` or `git clone https://github.com/ultralytics/yolov5` to update.\n",
            "YOLOv5 🚀 v6.1-306-gfbe67e4 Python-3.10.12 torch-2.0.1+cu118 CUDA:0 (Tesla T4, 15102MiB)\n",
            "\n",
            "\u001b[34m\u001b[1mhyperparameters: \u001b[0mlr0=0.01, lrf=0.01, momentum=0.937, weight_decay=0.0005, warmup_epochs=3.0, warmup_momentum=0.8, warmup_bias_lr=0.1, box=0.05, cls=0.5, cls_pw=1.0, obj=1.0, obj_pw=1.0, iou_t=0.2, anchor_t=4.0, fl_gamma=0.0, hsv_h=0.015, hsv_s=0.7, hsv_v=0.4, degrees=0.0, translate=0.1, scale=0.5, shear=0.0, perspective=0.0, flipud=0.0, fliplr=0.5, mosaic=1.0, mixup=0.0, copy_paste=0.0\n",
            "\u001b[34m\u001b[1mWeights & Biases: \u001b[0mrun 'pip install wandb' to automatically track and visualize YOLOv5 🚀 runs (RECOMMENDED)\n",
            "\u001b[34m\u001b[1mTensorBoard: \u001b[0mStart with 'tensorboard --logdir runs/train', view at http://localhost:6006/\n",
            "Downloading https://ultralytics.com/assets/Arial.ttf to /root/.config/Ultralytics/Arial.ttf...\n",
            "100% 755k/755k [00:00<00:00, 41.5MB/s]\n",
            "\n",
            "                 from  n    params  module                                  arguments                     \n",
            "  0                -1  1      3520  models.common.Focus                     [3, 32, 3]                    \n",
            "  1                -1  1     18560  models.common.Conv                      [32, 64, 3, 2]                \n",
            "  2                -1  1     19904  models.common.BottleneckCSP             [64, 64, 1]                   \n",
            "  3                -1  1     73984  models.common.Conv                      [64, 128, 3, 2]               \n",
            "  4                -1  3    161152  models.common.BottleneckCSP             [128, 128, 3]                 \n",
            "  5                -1  1    295424  models.common.Conv                      [128, 256, 3, 2]              \n",
            "  6                -1  3    641792  models.common.BottleneckCSP             [256, 256, 3]                 \n",
            "  7                -1  1   1180672  models.common.Conv                      [256, 512, 3, 2]              \n",
            "  8                -1  1    656896  models.common.SPP                       [512, 512, [5, 9, 13]]        \n",
            "  9                -1  1   1248768  models.common.BottleneckCSP             [512, 512, 1, False]          \n",
            " 10                -1  1    131584  models.common.Conv                      [512, 256, 1, 1]              \n",
            " 11                -1  1         0  torch.nn.modules.upsampling.Upsample    [None, 2, 'nearest']          \n",
            " 12           [-1, 6]  1         0  models.common.Concat                    [1]                           \n",
            " 13                -1  1    378624  models.common.BottleneckCSP             [512, 256, 1, False]          \n",
            " 14                -1  1     33024  models.common.Conv                      [256, 128, 1, 1]              \n",
            " 15                -1  1         0  torch.nn.modules.upsampling.Upsample    [None, 2, 'nearest']          \n",
            " 16           [-1, 4]  1         0  models.common.Concat                    [1]                           \n",
            " 17                -1  1     95104  models.common.BottleneckCSP             [256, 128, 1, False]          \n",
            " 18                -1  1    147712  models.common.Conv                      [128, 128, 3, 2]              \n",
            " 19          [-1, 14]  1         0  models.common.Concat                    [1]                           \n",
            " 20                -1  1    313088  models.common.BottleneckCSP             [256, 256, 1, False]          \n",
            " 21                -1  1    590336  models.common.Conv                      [256, 256, 3, 2]              \n",
            " 22          [-1, 10]  1         0  models.common.Concat                    [1]                           \n",
            " 23                -1  1   1248768  models.common.BottleneckCSP             [512, 512, 1, False]          \n",
            " 24      [17, 20, 23]  1     16182  models.yolo.Detect                      [1, [[10, 13, 16, 30, 33, 23], [30, 61, 62, 45, 59, 119], [116, 90, 156, 198, 373, 326]], [128, 256, 512]]\n",
            "custom_YOLOv5s summary: 283 layers, 7255094 parameters, 7255094 gradients, 16.9 GFLOPs\n",
            "\n",
            "\u001b[34m\u001b[1mAMP: \u001b[0mchecks passed ✅\n",
            "Scaled weight_decay = 0.0005\n",
            "\u001b[34m\u001b[1moptimizer:\u001b[0m SGD with parameter groups 59 weight (no decay), 70 weight, 62 bias\n",
            "\u001b[34m\u001b[1malbumentations: \u001b[0mBlur(always_apply=False, p=0.01, blur_limit=(3, 7)), MedianBlur(always_apply=False, p=0.01, blur_limit=(3, 7)), ToGray(always_apply=False, p=0.01), CLAHE(always_apply=False, p=0.01, clip_limit=(1, 4.0), tile_grid_size=(8, 8))\n",
            "\u001b[34m\u001b[1mtrain: \u001b[0mScanning '/content/yolov5/Apples-Detection-4/train/labels' images and labels...2611 found, 0 missing, 43 empty, 0 corrupt: 100% 2611/2611 [00:01<00:00, 1769.85it/s]\n",
            "\u001b[34m\u001b[1mtrain: \u001b[0mNew cache created: /content/yolov5/Apples-Detection-4/train/labels.cache\n",
            "\u001b[34m\u001b[1mtrain: \u001b[0mCaching images (1.4GB ram): 100% 2611/2611 [00:13<00:00, 186.70it/s]\n",
            "\u001b[34m\u001b[1mval: \u001b[0mScanning '/content/yolov5/Apples-Detection-4/valid/labels' images and labels...737 found, 0 missing, 0 empty, 0 corrupt: 100% 737/737 [00:00<00:00, 825.17it/s] \n",
            "\u001b[34m\u001b[1mval: \u001b[0mNew cache created: /content/yolov5/Apples-Detection-4/valid/labels.cache\n",
            "\u001b[34m\u001b[1mval: \u001b[0mCaching images (0.4GB ram): 100% 737/737 [00:08<00:00, 88.81it/s] \n",
            "Plotting labels to runs/train/yolov5s_results/labels.jpg... \n",
            "\n",
            "\u001b[34m\u001b[1mAutoAnchor: \u001b[0m4.74 anchors/target, 1.000 Best Possible Recall (BPR). Current anchors are a good fit to dataset ✅\n",
            "Image sizes 416 train, 416 val\n",
            "Using 2 dataloader workers\n",
            "Logging results to \u001b[1mruns/train/yolov5s_results\u001b[0m\n",
            "Starting training for 20 epochs...\n",
            "\n",
            "     Epoch   gpu_mem       box       obj       cls    labels  img_size\n",
            "      0/19     1.73G   0.09448   0.03749         0        43       416: 100% 164/164 [00:33<00:00,  4.90it/s]\n",
            "               Class     Images     Labels          P          R     mAP@.5 mAP@.5:.95: 100% 24/24 [00:07<00:00,  3.23it/s]\n",
            "                 all        737       2063     0.0031      0.333    0.00433    0.00123\n",
            "\n",
            "     Epoch   gpu_mem       box       obj       cls    labels  img_size\n",
            "      1/19     1.89G   0.08628   0.03844         0         6       416: 100% 164/164 [00:25<00:00,  6.34it/s]\n",
            "               Class     Images     Labels          P          R     mAP@.5 mAP@.5:.95: 100% 24/24 [00:06<00:00,  3.52it/s]\n",
            "                 all        737       2063      0.206      0.168     0.0927     0.0291\n",
            "\n",
            "     Epoch   gpu_mem       box       obj       cls    labels  img_size\n",
            "      2/19     1.89G    0.0755   0.04103         0         7       416: 100% 164/164 [00:26<00:00,  6.20it/s]\n",
            "               Class     Images     Labels          P          R     mAP@.5 mAP@.5:.95: 100% 24/24 [00:06<00:00,  3.72it/s]\n",
            "                 all        737       2063      0.378      0.317       0.23     0.0844\n",
            "\n",
            "     Epoch   gpu_mem       box       obj       cls    labels  img_size\n",
            "      3/19     1.89G   0.06629    0.0374         0        10       416: 100% 164/164 [00:26<00:00,  6.23it/s]\n",
            "               Class     Images     Labels          P          R     mAP@.5 mAP@.5:.95: 100% 24/24 [00:07<00:00,  3.16it/s]\n",
            "                 all        737       2063      0.558      0.449      0.454      0.186\n",
            "\n",
            "     Epoch   gpu_mem       box       obj       cls    labels  img_size\n",
            "      4/19     1.89G   0.05704   0.03433         0         3       416: 100% 164/164 [00:27<00:00,  5.87it/s]\n",
            "               Class     Images     Labels          P          R     mAP@.5 mAP@.5:.95: 100% 24/24 [00:06<00:00,  3.88it/s]\n",
            "                 all        737       2063      0.491      0.493      0.464      0.218\n",
            "\n",
            "     Epoch   gpu_mem       box       obj       cls    labels  img_size\n",
            "      5/19     1.89G   0.05221   0.03373         0         7       416: 100% 164/164 [00:25<00:00,  6.33it/s]\n",
            "               Class     Images     Labels          P          R     mAP@.5 mAP@.5:.95: 100% 24/24 [00:06<00:00,  3.63it/s]\n",
            "                 all        737       2063      0.744      0.601      0.674        0.4\n",
            "\n",
            "     Epoch   gpu_mem       box       obj       cls    labels  img_size\n",
            "      6/19     1.89G   0.04949   0.03202         0         5       416: 100% 164/164 [00:25<00:00,  6.51it/s]\n",
            "               Class     Images     Labels          P          R     mAP@.5 mAP@.5:.95: 100% 24/24 [00:06<00:00,  3.59it/s]\n",
            "                 all        737       2063      0.733      0.642      0.689      0.387\n",
            "\n",
            "     Epoch   gpu_mem       box       obj       cls    labels  img_size\n",
            "      7/19     1.89G   0.04434   0.02933         0        16       416: 100% 164/164 [00:26<00:00,  6.28it/s]\n",
            "               Class     Images     Labels          P          R     mAP@.5 mAP@.5:.95: 100% 24/24 [00:06<00:00,  3.79it/s]\n",
            "                 all        737       2063      0.674      0.637      0.647      0.368\n",
            "\n",
            "     Epoch   gpu_mem       box       obj       cls    labels  img_size\n",
            "      8/19     1.89G   0.04426   0.02937         0        15       416: 100% 164/164 [00:26<00:00,  6.21it/s]\n",
            "               Class     Images     Labels          P          R     mAP@.5 mAP@.5:.95: 100% 24/24 [00:06<00:00,  3.50it/s]\n",
            "                 all        737       2063      0.764      0.694      0.752      0.478\n",
            "\n",
            "     Epoch   gpu_mem       box       obj       cls    labels  img_size\n",
            "      9/19     1.89G   0.04154   0.02901         0        19       416: 100% 164/164 [00:26<00:00,  6.30it/s]\n",
            "               Class     Images     Labels          P          R     mAP@.5 mAP@.5:.95: 100% 24/24 [00:05<00:00,  4.16it/s]\n",
            "                 all        737       2063      0.771      0.711       0.75      0.488\n",
            "\n",
            "     Epoch   gpu_mem       box       obj       cls    labels  img_size\n",
            "     10/19     1.89G   0.04095   0.02782         0        23       416: 100% 164/164 [00:25<00:00,  6.40it/s]\n",
            "               Class     Images     Labels          P          R     mAP@.5 mAP@.5:.95: 100% 24/24 [00:06<00:00,  3.60it/s]\n",
            "                 all        737       2063      0.778      0.728       0.78       0.52\n",
            "\n",
            "     Epoch   gpu_mem       box       obj       cls    labels  img_size\n",
            "     11/19     1.89G   0.03955   0.02711         0        10       416: 100% 164/164 [00:25<00:00,  6.43it/s]\n",
            "               Class     Images     Labels          P          R     mAP@.5 mAP@.5:.95: 100% 24/24 [00:06<00:00,  3.55it/s]\n",
            "                 all        737       2063        0.8      0.714      0.788      0.525\n",
            "\n",
            "     Epoch   gpu_mem       box       obj       cls    labels  img_size\n",
            "     12/19     1.89G   0.03784   0.02719         0        10       416: 100% 164/164 [00:26<00:00,  6.30it/s]\n",
            "               Class     Images     Labels          P          R     mAP@.5 mAP@.5:.95: 100% 24/24 [00:05<00:00,  4.12it/s]\n",
            "                 all        737       2063      0.789      0.714      0.782      0.538\n",
            "\n",
            "     Epoch   gpu_mem       box       obj       cls    labels  img_size\n",
            "     13/19     1.89G   0.03774   0.02835         0        13       416: 100% 164/164 [00:26<00:00,  6.23it/s]\n",
            "               Class     Images     Labels          P          R     mAP@.5 mAP@.5:.95: 100% 24/24 [00:06<00:00,  3.67it/s]\n",
            "                 all        737       2063      0.756      0.765      0.807      0.557\n",
            "\n",
            "     Epoch   gpu_mem       box       obj       cls    labels  img_size\n",
            "     14/19     1.89G   0.03787   0.02571         0         7       416: 100% 164/164 [00:24<00:00,  6.60it/s]\n",
            "               Class     Images     Labels          P          R     mAP@.5 mAP@.5:.95: 100% 24/24 [00:06<00:00,  3.65it/s]\n",
            "                 all        737       2063      0.811      0.741      0.798      0.543\n",
            "\n",
            "     Epoch   gpu_mem       box       obj       cls    labels  img_size\n",
            "     15/19     1.89G   0.03621   0.02524         0         8       416: 100% 164/164 [00:25<00:00,  6.33it/s]\n",
            "               Class     Images     Labels          P          R     mAP@.5 mAP@.5:.95: 100% 24/24 [00:05<00:00,  4.02it/s]\n",
            "                 all        737       2063      0.791      0.757      0.813      0.569\n",
            "\n",
            "     Epoch   gpu_mem       box       obj       cls    labels  img_size\n",
            "     16/19     1.89G   0.03684   0.02654         0        10       416: 100% 164/164 [00:26<00:00,  6.16it/s]\n",
            "               Class     Images     Labels          P          R     mAP@.5 mAP@.5:.95: 100% 24/24 [00:06<00:00,  3.72it/s]\n",
            "                 all        737       2063      0.828      0.749       0.83       0.58\n",
            "\n",
            "     Epoch   gpu_mem       box       obj       cls    labels  img_size\n",
            "     17/19     1.89G    0.0359   0.02584         0        17       416: 100% 164/164 [00:25<00:00,  6.50it/s]\n",
            "               Class     Images     Labels          P          R     mAP@.5 mAP@.5:.95: 100% 24/24 [00:06<00:00,  3.88it/s]\n",
            "                 all        737       2063      0.813      0.758      0.833      0.586\n",
            "\n",
            "     Epoch   gpu_mem       box       obj       cls    labels  img_size\n",
            "     18/19     1.89G   0.03453   0.02516         0         7       416: 100% 164/164 [00:25<00:00,  6.45it/s]\n",
            "               Class     Images     Labels          P          R     mAP@.5 mAP@.5:.95: 100% 24/24 [00:06<00:00,  3.72it/s]\n",
            "                 all        737       2063      0.806      0.767      0.833      0.588\n",
            "\n",
            "     Epoch   gpu_mem       box       obj       cls    labels  img_size\n",
            "     19/19     1.89G   0.03488   0.02541         0         9       416: 100% 164/164 [00:25<00:00,  6.56it/s]\n",
            "               Class     Images     Labels          P          R     mAP@.5 mAP@.5:.95: 100% 24/24 [00:05<00:00,  4.17it/s]\n",
            "                 all        737       2063      0.807       0.77      0.841       0.59\n",
            "\n",
            "20 epochs completed in 0.186 hours.\n",
            "Optimizer stripped from runs/train/yolov5s_results/weights/last.pt, 14.8MB\n",
            "Optimizer stripped from runs/train/yolov5s_results/weights/best.pt, 14.8MB\n",
            "\n",
            "Validating runs/train/yolov5s_results/weights/best.pt...\n",
            "Fusing layers... \n",
            "custom_YOLOv5s summary: 232 layers, 7246518 parameters, 0 gradients, 16.7 GFLOPs\n",
            "               Class     Images     Labels          P          R     mAP@.5 mAP@.5:.95: 100% 24/24 [00:09<00:00,  2.55it/s]\n",
            "                 all        737       2063      0.806      0.771      0.841       0.59\n",
            "Results saved to \u001b[1mruns/train/yolov5s_results\u001b[0m\n",
            "CPU times: user 8.85 s, sys: 921 ms, total: 9.77 s\n",
            "Wall time: 12min 10s\n"
          ]
        }
      ]
    },
    {
      "cell_type": "markdown",
      "metadata": {
        "id": "kJVs_4zEeVbF"
      },
      "source": [
        "# Evaluate Custom YOLOv5 Detector Performance"
      ]
    },
    {
      "cell_type": "markdown",
      "metadata": {
        "id": "7KN5ghjE6ZWh"
      },
      "source": [
        "Training losses and performance metrics are saved to Tensorboard and also to a logfile defined above with the **--name** flag when we train. In our case, we named this `yolov5s_results`. (If given no name, it defaults to `results.txt`.) The results file is plotted as a png after training completes.\n",
        "\n",
        "Note from Glenn: Partially completed `results.txt` files can be plotted with `from utils.utils import plot_results; plot_results()`."
      ]
    },
    {
      "cell_type": "code",
      "metadata": {
        "id": "bOy5KI2ncnWd"
      },
      "source": [
        "# Start tensorboard\n",
        "# Launch after you have started training\n",
        "# logs save in the folder \"runs\"\n",
        "%load_ext tensorboard\n",
        "%tensorboard --logdir runs"
      ],
      "execution_count": null,
      "outputs": []
    },
    {
      "cell_type": "code",
      "metadata": {
        "id": "C60XAsyv6OPe",
        "colab": {
          "base_uri": "https://localhost:8080/",
          "height": 646
        },
        "outputId": "00314937-cde8-4d57-f863-721008ec608f"
      },
      "source": [
        "# we can also output some older school graphs if the tensor board isn't working for whatever reason...\n",
        "from utils.plots import plot_results  # plot results.txt as results.png\n",
        "Image(filename='/content/yolov5/runs/train/yolov5s_results/results.png', width=1000)  # view results.png"
      ],
      "execution_count": null,
      "outputs": [
        {
          "output_type": "execute_result",
          "data": {
            "image/png": "[encoded data removed]",
            "text/plain": [
              "<IPython.core.display.Image object>"
            ]
          },
          "metadata": {
            "image/png": {
              "width": 1000
            }
          },
          "execution_count": 33
        }
      ]
    },
    {
      "cell_type": "markdown",
      "metadata": {
        "id": "DLI1JmHU7B0l"
      },
      "source": [
        "### Curious? Visualize Our Training Data with Labels\n",
        "\n",
        "After training starts, view `train*.jpg` images to see training images, labels and augmentation effects.\n",
        "\n",
        "Note a mosaic dataloader is used for training (shown below), a new dataloading concept developed by Glenn Jocher and first featured in [YOLOv4](https://arxiv.org/abs/2004.10934)."
      ]
    },
    {
      "cell_type": "code",
      "metadata": {
        "id": "PF9MLHDb7tB6",
        "colab": {
          "base_uri": "https://localhost:8080/",
          "height": 373
        },
        "outputId": "1510b4ed-bc06-4ef2-f068-0bb345b35f65"
      },
      "source": [
        "# first, display our ground truth data\n",
        "print(\"GROUND TRUTH TRAINING DATA:\")\n",
        "Image(filename='/content/yolov5/runs/train/yolov5s_results/test_batch0_labels.jpg', width=900)"
      ],
      "execution_count": 14,
      "outputs": [
        {
          "output_type": "stream",
          "name": "stdout",
          "text": [
            "GROUND TRUTH TRAINING DATA:\n"
          ]
        },
        {
          "output_type": "error",
          "ename": "FileNotFoundError",
          "evalue": "ignored",
          "traceback": [
            "\u001b[0;31m---------------------------------------------------------------------------\u001b[0m",
            "\u001b[0;31mFileNotFoundError\u001b[0m                         Traceback (most recent call last)",
            "\u001b[0;32m<ipython-input-14-7c5574a13794>\u001b[0m in \u001b[0;36m<cell line: 3>\u001b[0;34m()\u001b[0m\n\u001b[1;32m      1\u001b[0m \u001b[0;31m# first, display our ground truth data\u001b[0m\u001b[0;34m\u001b[0m\u001b[0;34m\u001b[0m\u001b[0m\n\u001b[1;32m      2\u001b[0m \u001b[0mprint\u001b[0m\u001b[0;34m(\u001b[0m\u001b[0;34m\"GROUND TRUTH TRAINING DATA:\"\u001b[0m\u001b[0;34m)\u001b[0m\u001b[0;34m\u001b[0m\u001b[0;34m\u001b[0m\u001b[0m\n\u001b[0;32m----> 3\u001b[0;31m \u001b[0mImage\u001b[0m\u001b[0;34m(\u001b[0m\u001b[0mfilename\u001b[0m\u001b[0;34m=\u001b[0m\u001b[0;34m'/content/yolov5/runs/train/yolov5s_results/test_batch0_labels.jpg'\u001b[0m\u001b[0;34m,\u001b[0m \u001b[0mwidth\u001b[0m\u001b[0;34m=\u001b[0m\u001b[0;36m900\u001b[0m\u001b[0;34m)\u001b[0m\u001b[0;34m\u001b[0m\u001b[0;34m\u001b[0m\u001b[0m\n\u001b[0m",
            "\u001b[0;32m/usr/local/lib/python3.10/dist-packages/IPython/core/display.py\u001b[0m in \u001b[0;36m__init__\u001b[0;34m(self, data, url, filename, format, embed, width, height, retina, unconfined, metadata)\u001b[0m\n\u001b[1;32m   1229\u001b[0m         \u001b[0mself\u001b[0m\u001b[0;34m.\u001b[0m\u001b[0mretina\u001b[0m \u001b[0;34m=\u001b[0m \u001b[0mretina\u001b[0m\u001b[0;34m\u001b[0m\u001b[0;34m\u001b[0m\u001b[0m\n\u001b[1;32m   1230\u001b[0m         \u001b[0mself\u001b[0m\u001b[0;34m.\u001b[0m\u001b[0munconfined\u001b[0m \u001b[0;34m=\u001b[0m \u001b[0munconfined\u001b[0m\u001b[0;34m\u001b[0m\u001b[0;34m\u001b[0m\u001b[0m\n\u001b[0;32m-> 1231\u001b[0;31m         super(Image, self).__init__(data=data, url=url, filename=filename, \n\u001b[0m\u001b[1;32m   1232\u001b[0m                 metadata=metadata)\n\u001b[1;32m   1233\u001b[0m \u001b[0;34m\u001b[0m\u001b[0m\n",
            "\u001b[0;32m/usr/local/lib/python3.10/dist-packages/IPython/core/display.py\u001b[0m in \u001b[0;36m__init__\u001b[0;34m(self, data, url, filename, metadata)\u001b[0m\n\u001b[1;32m    635\u001b[0m             \u001b[0mself\u001b[0m\u001b[0;34m.\u001b[0m\u001b[0mmetadata\u001b[0m \u001b[0;34m=\u001b[0m \u001b[0;34m{\u001b[0m\u001b[0;34m}\u001b[0m\u001b[0;34m\u001b[0m\u001b[0;34m\u001b[0m\u001b[0m\n\u001b[1;32m    636\u001b[0m \u001b[0;34m\u001b[0m\u001b[0m\n\u001b[0;32m--> 637\u001b[0;31m         \u001b[0mself\u001b[0m\u001b[0;34m.\u001b[0m\u001b[0mreload\u001b[0m\u001b[0;34m(\u001b[0m\u001b[0;34m)\u001b[0m\u001b[0;34m\u001b[0m\u001b[0;34m\u001b[0m\u001b[0m\n\u001b[0m\u001b[1;32m    638\u001b[0m         \u001b[0mself\u001b[0m\u001b[0;34m.\u001b[0m\u001b[0m_check_data\u001b[0m\u001b[0;34m(\u001b[0m\u001b[0;34m)\u001b[0m\u001b[0;34m\u001b[0m\u001b[0;34m\u001b[0m\u001b[0m\n\u001b[1;32m    639\u001b[0m \u001b[0;34m\u001b[0m\u001b[0m\n",
            "\u001b[0;32m/usr/local/lib/python3.10/dist-packages/IPython/core/display.py\u001b[0m in \u001b[0;36mreload\u001b[0;34m(self)\u001b[0m\n\u001b[1;32m   1261\u001b[0m         \u001b[0;34m\"\"\"Reload the raw data from file or URL.\"\"\"\u001b[0m\u001b[0;34m\u001b[0m\u001b[0;34m\u001b[0m\u001b[0m\n\u001b[1;32m   1262\u001b[0m         \u001b[0;32mif\u001b[0m \u001b[0mself\u001b[0m\u001b[0;34m.\u001b[0m\u001b[0membed\u001b[0m\u001b[0;34m:\u001b[0m\u001b[0;34m\u001b[0m\u001b[0;34m\u001b[0m\u001b[0m\n\u001b[0;32m-> 1263\u001b[0;31m             \u001b[0msuper\u001b[0m\u001b[0;34m(\u001b[0m\u001b[0mImage\u001b[0m\u001b[0;34m,\u001b[0m\u001b[0mself\u001b[0m\u001b[0;34m)\u001b[0m\u001b[0;34m.\u001b[0m\u001b[0mreload\u001b[0m\u001b[0;34m(\u001b[0m\u001b[0;34m)\u001b[0m\u001b[0;34m\u001b[0m\u001b[0;34m\u001b[0m\u001b[0m\n\u001b[0m\u001b[1;32m   1264\u001b[0m             \u001b[0;32mif\u001b[0m \u001b[0mself\u001b[0m\u001b[0;34m.\u001b[0m\u001b[0mretina\u001b[0m\u001b[0;34m:\u001b[0m\u001b[0;34m\u001b[0m\u001b[0;34m\u001b[0m\u001b[0m\n\u001b[1;32m   1265\u001b[0m                 \u001b[0mself\u001b[0m\u001b[0;34m.\u001b[0m\u001b[0m_retina_shape\u001b[0m\u001b[0;34m(\u001b[0m\u001b[0;34m)\u001b[0m\u001b[0;34m\u001b[0m\u001b[0;34m\u001b[0m\u001b[0m\n",
            "\u001b[0;32m/usr/local/lib/python3.10/dist-packages/IPython/core/display.py\u001b[0m in \u001b[0;36mreload\u001b[0;34m(self)\u001b[0m\n\u001b[1;32m    660\u001b[0m         \u001b[0;34m\"\"\"Reload the raw data from file or URL.\"\"\"\u001b[0m\u001b[0;34m\u001b[0m\u001b[0;34m\u001b[0m\u001b[0m\n\u001b[1;32m    661\u001b[0m         \u001b[0;32mif\u001b[0m \u001b[0mself\u001b[0m\u001b[0;34m.\u001b[0m\u001b[0mfilename\u001b[0m \u001b[0;32mis\u001b[0m \u001b[0;32mnot\u001b[0m \u001b[0;32mNone\u001b[0m\u001b[0;34m:\u001b[0m\u001b[0;34m\u001b[0m\u001b[0;34m\u001b[0m\u001b[0m\n\u001b[0;32m--> 662\u001b[0;31m             \u001b[0;32mwith\u001b[0m \u001b[0mopen\u001b[0m\u001b[0;34m(\u001b[0m\u001b[0mself\u001b[0m\u001b[0;34m.\u001b[0m\u001b[0mfilename\u001b[0m\u001b[0;34m,\u001b[0m \u001b[0mself\u001b[0m\u001b[0;34m.\u001b[0m\u001b[0m_read_flags\u001b[0m\u001b[0;34m)\u001b[0m \u001b[0;32mas\u001b[0m \u001b[0mf\u001b[0m\u001b[0;34m:\u001b[0m\u001b[0;34m\u001b[0m\u001b[0;34m\u001b[0m\u001b[0m\n\u001b[0m\u001b[1;32m    663\u001b[0m                 \u001b[0mself\u001b[0m\u001b[0;34m.\u001b[0m\u001b[0mdata\u001b[0m \u001b[0;34m=\u001b[0m \u001b[0mf\u001b[0m\u001b[0;34m.\u001b[0m\u001b[0mread\u001b[0m\u001b[0;34m(\u001b[0m\u001b[0;34m)\u001b[0m\u001b[0;34m\u001b[0m\u001b[0;34m\u001b[0m\u001b[0m\n\u001b[1;32m    664\u001b[0m         \u001b[0;32melif\u001b[0m \u001b[0mself\u001b[0m\u001b[0;34m.\u001b[0m\u001b[0murl\u001b[0m \u001b[0;32mis\u001b[0m \u001b[0;32mnot\u001b[0m \u001b[0;32mNone\u001b[0m\u001b[0;34m:\u001b[0m\u001b[0;34m\u001b[0m\u001b[0;34m\u001b[0m\u001b[0m\n",
            "\u001b[0;31mFileNotFoundError\u001b[0m: [Errno 2] No such file or directory: '/content/yolov5/runs/train/yolov5s_results/test_batch0_labels.jpg'"
          ]
        }
      ]
    },
    {
      "cell_type": "code",
      "metadata": {
        "id": "W40tI99_7BcH",
        "colab": {
          "base_uri": "https://localhost:8080/",
          "height": 227
        },
        "outputId": "b54fcdb4-7e14-4d6a-f81c-49e483e119f4"
      },
      "source": [
        "# print out an augmented training example\n",
        "print(\"GROUND TRUTH AUGMENTED TRAINING DATA:\")\n",
        "Image(filename='/content/yolov5/runs/train/yolov5s_results/train_batch0.jpg', width=900)"
      ],
      "execution_count": null,
      "outputs": [
        {
          "output_type": "stream",
          "name": "stdout",
          "text": [
            "GROUND TRUTH AUGMENTED TRAINING DATA:\n"
          ]
        },
        {
          "output_type": "error",
          "ename": "NameError",
          "evalue": "ignored",
          "traceback": [
            "\u001b[0;31m---------------------------------------------------------------------------\u001b[0m",
            "\u001b[0;31mNameError\u001b[0m                                 Traceback (most recent call last)",
            "\u001b[0;32m<ipython-input-3-6e113e1f0c3d>\u001b[0m in \u001b[0;36m<cell line: 3>\u001b[0;34m()\u001b[0m\n\u001b[1;32m      1\u001b[0m \u001b[0;31m# print out an augmented training example\u001b[0m\u001b[0;34m\u001b[0m\u001b[0;34m\u001b[0m\u001b[0m\n\u001b[1;32m      2\u001b[0m \u001b[0mprint\u001b[0m\u001b[0;34m(\u001b[0m\u001b[0;34m\"GROUND TRUTH AUGMENTED TRAINING DATA:\"\u001b[0m\u001b[0;34m)\u001b[0m\u001b[0;34m\u001b[0m\u001b[0;34m\u001b[0m\u001b[0m\n\u001b[0;32m----> 3\u001b[0;31m \u001b[0mImage\u001b[0m\u001b[0;34m(\u001b[0m\u001b[0mfilename\u001b[0m\u001b[0;34m=\u001b[0m\u001b[0;34m'/content/yolov5/runs/train/yolov5s_results/train_batch0.jpg'\u001b[0m\u001b[0;34m,\u001b[0m \u001b[0mwidth\u001b[0m\u001b[0;34m=\u001b[0m\u001b[0;36m900\u001b[0m\u001b[0;34m)\u001b[0m\u001b[0;34m\u001b[0m\u001b[0;34m\u001b[0m\u001b[0m\n\u001b[0m",
            "\u001b[0;31mNameError\u001b[0m: name 'Image' is not defined"
          ]
        }
      ]
    },
    {
      "cell_type": "markdown",
      "metadata": {
        "id": "N3qM6T0W53gh"
      },
      "source": [
        "#Run Inference  With Trained Weights\n",
        "Run inference with a pretrained checkpoint on contents of `test/images` folder downloaded from Roboflow."
      ]
    },
    {
      "cell_type": "code",
      "metadata": {
        "id": "yIEwt5YLeQ7P",
        "colab": {
          "base_uri": "https://localhost:8080/"
        },
        "outputId": "7fe96e99-7e50-4031-a55b-6b5ce9842539"
      },
      "source": [
        "# trained weights are saved by default in our weights folder\n",
        "%ls runs/"
      ],
      "execution_count": 15,
      "outputs": [
        {
          "output_type": "stream",
          "name": "stdout",
          "text": [
            "\u001b[0m\u001b[01;34mtrain\u001b[0m/\n"
          ]
        }
      ]
    },
    {
      "cell_type": "code",
      "metadata": {
        "id": "4SyOWS80qR32",
        "colab": {
          "base_uri": "https://localhost:8080/"
        },
        "outputId": "314862e7-f647-40a3-95f0-2f348f71616d"
      },
      "source": [
        "%ls runs/train/yolov5s_results7/weights"
      ],
      "execution_count": 16,
      "outputs": [
        {
          "output_type": "stream",
          "name": "stdout",
          "text": [
            "ls: cannot access 'runs/train/yolov5s_results7/weights': No such file or directory\n"
          ]
        }
      ]
    },
    {
      "cell_type": "code",
      "metadata": {
        "id": "9nmZZnWOgJ2S",
        "colab": {
          "base_uri": "https://localhost:8080/"
        },
        "outputId": "9bdec463-2b0e-4398-faa4-db065c438527"
      },
      "source": [
        "# when we ran this, we saw .007 second inference time. That is 140 FPS on a TESLA P100!\n",
        "# use the best weights!\n",
        "%cd /content/yolov5/\n",
        "!python detect.py --weights /content/yolov5/runs/train/yolov5s_results/weights/best.pt --img 416 --conf 0.4 --source /content/apple.mp4"
      ],
      "execution_count": 18,
      "outputs": [
        {
          "output_type": "stream",
          "name": "stdout",
          "text": [
            "/content/yolov5\n",
            "\u001b[34m\u001b[1mdetect: \u001b[0mweights=['/content/yolov5/runs/train/yolov5s_results/weights/best.pt'], source=/content/apple.mp4, data=data/coco128.yaml, imgsz=[416, 416], conf_thres=0.4, iou_thres=0.45, max_det=1000, device=, view_img=False, save_txt=False, save_conf=False, save_crop=False, nosave=False, classes=None, agnostic_nms=False, augment=False, visualize=False, update=False, project=runs/detect, name=exp, exist_ok=False, line_thickness=3, hide_labels=False, hide_conf=False, half=False, dnn=False\n",
            "YOLOv5 🚀 v6.1-306-gfbe67e4 Python-3.10.12 torch-2.0.1+cu118 CUDA:0 (Tesla T4, 15102MiB)\n",
            "\n",
            "Fusing layers... \n",
            "custom_YOLOv5s summary: 232 layers, 7246518 parameters, 0 gradients, 16.7 GFLOPs\n",
            "video 1/1 (1/531) /content/apple.mp4: 256x416 5 apples, Done. (0.059s)\n",
            "video 1/1 (2/531) /content/apple.mp4: 256x416 5 apples, Done. (0.010s)\n",
            "video 1/1 (3/531) /content/apple.mp4: 256x416 6 apples, Done. (0.009s)\n",
            "video 1/1 (4/531) /content/apple.mp4: 256x416 6 apples, Done. (0.010s)\n",
            "video 1/1 (5/531) /content/apple.mp4: 256x416 6 apples, Done. (0.008s)\n",
            "video 1/1 (6/531) /content/apple.mp4: 256x416 6 apples, Done. (0.010s)\n",
            "video 1/1 (7/531) /content/apple.mp4: 256x416 6 apples, Done. (0.010s)\n",
            "video 1/1 (8/531) /content/apple.mp4: 256x416 6 apples, Done. (0.010s)\n",
            "video 1/1 (9/531) /content/apple.mp4: 256x416 6 apples, Done. (0.007s)\n",
            "video 1/1 (10/531) /content/apple.mp4: 256x416 6 apples, Done. (0.010s)\n",
            "video 1/1 (11/531) /content/apple.mp4: 256x416 7 apples, Done. (0.011s)\n",
            "video 1/1 (12/531) /content/apple.mp4: 256x416 7 apples, Done. (0.010s)\n",
            "video 1/1 (13/531) /content/apple.mp4: 256x416 7 apples, Done. (0.008s)\n",
            "video 1/1 (14/531) /content/apple.mp4: 256x416 7 apples, Done. (0.010s)\n",
            "video 1/1 (15/531) /content/apple.mp4: 256x416 7 apples, Done. (0.009s)\n",
            "video 1/1 (16/531) /content/apple.mp4: 256x416 7 apples, Done. (0.010s)\n",
            "video 1/1 (17/531) /content/apple.mp4: 256x416 7 apples, Done. (0.008s)\n",
            "video 1/1 (18/531) /content/apple.mp4: 256x416 7 apples, Done. (0.010s)\n",
            "video 1/1 (19/531) /content/apple.mp4: 256x416 6 apples, Done. (0.009s)\n",
            "video 1/1 (20/531) /content/apple.mp4: 256x416 6 apples, Done. (0.010s)\n",
            "video 1/1 (21/531) /content/apple.mp4: 256x416 6 apples, Done. (0.008s)\n",
            "video 1/1 (22/531) /content/apple.mp4: 256x416 6 apples, Done. (0.010s)\n",
            "video 1/1 (23/531) /content/apple.mp4: 256x416 6 apples, Done. (0.008s)\n",
            "video 1/1 (24/531) /content/apple.mp4: 256x416 6 apples, Done. (0.010s)\n",
            "video 1/1 (25/531) /content/apple.mp4: 256x416 6 apples, Done. (0.008s)\n",
            "video 1/1 (26/531) /content/apple.mp4: 256x416 6 apples, Done. (0.010s)\n",
            "video 1/1 (27/531) /content/apple.mp4: 256x416 6 apples, Done. (0.008s)\n",
            "video 1/1 (28/531) /content/apple.mp4: 256x416 6 apples, Done. (0.010s)\n",
            "video 1/1 (29/531) /content/apple.mp4: 256x416 7 apples, Done. (0.009s)\n",
            "video 1/1 (30/531) /content/apple.mp4: 256x416 7 apples, Done. (0.010s)\n",
            "video 1/1 (31/531) /content/apple.mp4: 256x416 7 apples, Done. (0.008s)\n",
            "video 1/1 (32/531) /content/apple.mp4: 256x416 7 apples, Done. (0.010s)\n",
            "video 1/1 (33/531) /content/apple.mp4: 256x416 7 apples, Done. (0.008s)\n",
            "video 1/1 (34/531) /content/apple.mp4: 256x416 7 apples, Done. (0.010s)\n",
            "video 1/1 (35/531) /content/apple.mp4: 256x416 7 apples, Done. (0.008s)\n",
            "video 1/1 (36/531) /content/apple.mp4: 256x416 7 apples, Done. (0.010s)\n",
            "video 1/1 (37/531) /content/apple.mp4: 256x416 7 apples, Done. (0.010s)\n",
            "video 1/1 (38/531) /content/apple.mp4: 256x416 7 apples, Done. (0.010s)\n",
            "video 1/1 (39/531) /content/apple.mp4: 256x416 8 apples, Done. (0.010s)\n",
            "video 1/1 (40/531) /content/apple.mp4: 256x416 8 apples, Done. (0.010s)\n",
            "video 1/1 (41/531) /content/apple.mp4: 256x416 7 apples, Done. (0.008s)\n",
            "video 1/1 (42/531) /content/apple.mp4: 256x416 7 apples, Done. (0.010s)\n",
            "video 1/1 (43/531) /content/apple.mp4: 256x416 6 apples, Done. (0.009s)\n",
            "video 1/1 (44/531) /content/apple.mp4: 256x416 6 apples, Done. (0.010s)\n",
            "video 1/1 (45/531) /content/apple.mp4: 256x416 5 apples, Done. (0.008s)\n",
            "video 1/1 (46/531) /content/apple.mp4: 256x416 5 apples, Done. (0.010s)\n",
            "video 1/1 (47/531) /content/apple.mp4: 256x416 7 apples, Done. (0.009s)\n",
            "video 1/1 (48/531) /content/apple.mp4: 256x416 7 apples, Done. (0.011s)\n",
            "video 1/1 (49/531) /content/apple.mp4: 256x416 5 apples, Done. (0.008s)\n",
            "video 1/1 (50/531) /content/apple.mp4: 256x416 5 apples, Done. (0.010s)\n",
            "video 1/1 (51/531) /content/apple.mp4: 256x416 5 apples, Done. (0.009s)\n",
            "video 1/1 (52/531) /content/apple.mp4: 256x416 5 apples, Done. (0.011s)\n",
            "video 1/1 (53/531) /content/apple.mp4: 256x416 5 apples, Done. (0.008s)\n",
            "video 1/1 (54/531) /content/apple.mp4: 256x416 5 apples, Done. (0.021s)\n",
            "video 1/1 (55/531) /content/apple.mp4: 256x416 5 apples, Done. (0.008s)\n",
            "video 1/1 (56/531) /content/apple.mp4: 256x416 5 apples, Done. (0.010s)\n",
            "video 1/1 (57/531) /content/apple.mp4: 256x416 5 apples, Done. (0.008s)\n",
            "video 1/1 (58/531) /content/apple.mp4: 256x416 5 apples, Done. (0.010s)\n",
            "video 1/1 (59/531) /content/apple.mp4: 256x416 6 apples, Done. (0.009s)\n",
            "video 1/1 (60/531) /content/apple.mp4: 256x416 6 apples, Done. (0.010s)\n",
            "video 1/1 (61/531) /content/apple.mp4: 256x416 6 apples, Done. (0.008s)\n",
            "video 1/1 (62/531) /content/apple.mp4: 256x416 6 apples, Done. (0.010s)\n",
            "video 1/1 (63/531) /content/apple.mp4: 256x416 6 apples, Done. (0.008s)\n",
            "video 1/1 (64/531) /content/apple.mp4: 256x416 6 apples, Done. (0.011s)\n",
            "video 1/1 (65/531) /content/apple.mp4: 256x416 5 apples, Done. (0.008s)\n",
            "video 1/1 (66/531) /content/apple.mp4: 256x416 5 apples, Done. (0.010s)\n",
            "video 1/1 (67/531) /content/apple.mp4: 256x416 5 apples, Done. (0.007s)\n",
            "video 1/1 (68/531) /content/apple.mp4: 256x416 5 apples, Done. (0.011s)\n",
            "video 1/1 (69/531) /content/apple.mp4: 256x416 5 apples, Done. (0.008s)\n",
            "video 1/1 (70/531) /content/apple.mp4: 256x416 5 apples, Done. (0.010s)\n",
            "video 1/1 (71/531) /content/apple.mp4: 256x416 5 apples, Done. (0.008s)\n",
            "video 1/1 (72/531) /content/apple.mp4: 256x416 5 apples, Done. (0.010s)\n",
            "video 1/1 (73/531) /content/apple.mp4: 256x416 5 apples, Done. (0.008s)\n",
            "video 1/1 (74/531) /content/apple.mp4: 256x416 5 apples, Done. (0.011s)\n",
            "video 1/1 (75/531) /content/apple.mp4: 256x416 4 apples, Done. (0.011s)\n",
            "video 1/1 (76/531) /content/apple.mp4: 256x416 4 apples, Done. (0.013s)\n",
            "video 1/1 (77/531) /content/apple.mp4: 256x416 4 apples, Done. (0.008s)\n",
            "video 1/1 (78/531) /content/apple.mp4: 256x416 5 apples, Done. (0.010s)\n",
            "video 1/1 (79/531) /content/apple.mp4: 256x416 6 apples, Done. (0.008s)\n",
            "video 1/1 (80/531) /content/apple.mp4: 256x416 6 apples, Done. (0.010s)\n",
            "video 1/1 (81/531) /content/apple.mp4: 256x416 5 apples, Done. (0.008s)\n",
            "video 1/1 (82/531) /content/apple.mp4: 256x416 5 apples, Done. (0.010s)\n",
            "video 1/1 (83/531) /content/apple.mp4: 256x416 5 apples, Done. (0.008s)\n",
            "video 1/1 (84/531) /content/apple.mp4: 256x416 5 apples, Done. (0.011s)\n",
            "video 1/1 (85/531) /content/apple.mp4: 256x416 4 apples, Done. (0.008s)\n",
            "video 1/1 (86/531) /content/apple.mp4: 256x416 4 apples, Done. (0.010s)\n",
            "video 1/1 (87/531) /content/apple.mp4: 256x416 5 apples, Done. (0.008s)\n",
            "video 1/1 (88/531) /content/apple.mp4: 256x416 5 apples, Done. (0.011s)\n",
            "video 1/1 (89/531) /content/apple.mp4: 256x416 5 apples, Done. (0.008s)\n",
            "video 1/1 (90/531) /content/apple.mp4: 256x416 5 apples, Done. (0.010s)\n",
            "video 1/1 (91/531) /content/apple.mp4: 256x416 5 apples, Done. (0.009s)\n",
            "video 1/1 (92/531) /content/apple.mp4: 256x416 5 apples, Done. (0.010s)\n",
            "video 1/1 (93/531) /content/apple.mp4: 256x416 4 apples, Done. (0.008s)\n",
            "video 1/1 (94/531) /content/apple.mp4: 256x416 4 apples, Done. (0.010s)\n",
            "video 1/1 (95/531) /content/apple.mp4: 256x416 4 apples, Done. (0.011s)\n",
            "video 1/1 (96/531) /content/apple.mp4: 256x416 4 apples, Done. (0.010s)\n",
            "video 1/1 (97/531) /content/apple.mp4: 256x416 4 apples, Done. (0.008s)\n",
            "video 1/1 (98/531) /content/apple.mp4: 256x416 4 apples, Done. (0.010s)\n",
            "video 1/1 (99/531) /content/apple.mp4: 256x416 4 apples, Done. (0.008s)\n",
            "video 1/1 (100/531) /content/apple.mp4: 256x416 4 apples, Done. (0.010s)\n",
            "video 1/1 (101/531) /content/apple.mp4: 256x416 4 apples, Done. (0.008s)\n",
            "video 1/1 (102/531) /content/apple.mp4: 256x416 4 apples, Done. (0.010s)\n",
            "video 1/1 (103/531) /content/apple.mp4: 256x416 4 apples, Done. (0.008s)\n",
            "video 1/1 (104/531) /content/apple.mp4: 256x416 4 apples, Done. (0.011s)\n",
            "video 1/1 (105/531) /content/apple.mp4: 256x416 5 apples, Done. (0.008s)\n",
            "video 1/1 (106/531) /content/apple.mp4: 256x416 5 apples, Done. (0.010s)\n",
            "video 1/1 (107/531) /content/apple.mp4: 256x416 5 apples, Done. (0.008s)\n",
            "video 1/1 (108/531) /content/apple.mp4: 256x416 5 apples, Done. (0.010s)\n",
            "video 1/1 (109/531) /content/apple.mp4: 256x416 4 apples, Done. (0.008s)\n",
            "video 1/1 (110/531) /content/apple.mp4: 256x416 4 apples, Done. (0.011s)\n",
            "video 1/1 (111/531) /content/apple.mp4: 256x416 2 apples, Done. (0.008s)\n",
            "video 1/1 (112/531) /content/apple.mp4: 256x416 2 apples, Done. (0.010s)\n",
            "video 1/1 (113/531) /content/apple.mp4: 256x416 2 apples, Done. (0.010s)\n",
            "video 1/1 (114/531) /content/apple.mp4: 256x416 2 apples, Done. (0.011s)\n",
            "video 1/1 (115/531) /content/apple.mp4: 256x416 2 apples, Done. (0.012s)\n",
            "video 1/1 (116/531) /content/apple.mp4: 256x416 2 apples, Done. (0.011s)\n",
            "video 1/1 (117/531) /content/apple.mp4: 256x416 5 apples, Done. (0.008s)\n",
            "video 1/1 (118/531) /content/apple.mp4: 256x416 5 apples, Done. (0.009s)\n",
            "video 1/1 (119/531) /content/apple.mp4: 256x416 5 apples, Done. (0.008s)\n",
            "video 1/1 (120/531) /content/apple.mp4: 256x416 5 apples, Done. (0.010s)\n",
            "video 1/1 (121/531) /content/apple.mp4: 256x416 4 apples, Done. (0.011s)\n",
            "video 1/1 (122/531) /content/apple.mp4: 256x416 4 apples, Done. (0.010s)\n",
            "video 1/1 (123/531) /content/apple.mp4: 256x416 4 apples, Done. (0.009s)\n",
            "video 1/1 (124/531) /content/apple.mp4: 256x416 4 apples, Done. (0.010s)\n",
            "video 1/1 (125/531) /content/apple.mp4: 256x416 4 apples, Done. (0.009s)\n",
            "video 1/1 (126/531) /content/apple.mp4: 256x416 4 apples, Done. (0.010s)\n",
            "video 1/1 (127/531) /content/apple.mp4: 256x416 5 apples, Done. (0.011s)\n",
            "video 1/1 (128/531) /content/apple.mp4: 256x416 5 apples, Done. (0.011s)\n",
            "video 1/1 (129/531) /content/apple.mp4: 256x416 6 apples, Done. (0.009s)\n",
            "video 1/1 (130/531) /content/apple.mp4: 256x416 6 apples, Done. (0.010s)\n",
            "video 1/1 (131/531) /content/apple.mp4: 256x416 7 apples, Done. (0.009s)\n",
            "video 1/1 (132/531) /content/apple.mp4: 256x416 7 apples, Done. (0.010s)\n",
            "video 1/1 (133/531) /content/apple.mp4: 256x416 8 apples, Done. (0.011s)\n",
            "video 1/1 (134/531) /content/apple.mp4: 256x416 8 apples, Done. (0.010s)\n",
            "video 1/1 (135/531) /content/apple.mp4: 256x416 7 apples, Done. (0.009s)\n",
            "video 1/1 (136/531) /content/apple.mp4: 256x416 7 apples, Done. (0.010s)\n",
            "video 1/1 (137/531) /content/apple.mp4: 256x416 8 apples, Done. (0.008s)\n",
            "video 1/1 (138/531) /content/apple.mp4: 256x416 8 apples, Done. (0.010s)\n",
            "video 1/1 (139/531) /content/apple.mp4: 256x416 8 apples, Done. (0.008s)\n",
            "video 1/1 (140/531) /content/apple.mp4: 256x416 8 apples, Done. (0.010s)\n",
            "video 1/1 (141/531) /content/apple.mp4: 256x416 8 apples, Done. (0.008s)\n",
            "video 1/1 (142/531) /content/apple.mp4: 256x416 8 apples, Done. (0.010s)\n",
            "video 1/1 (143/531) /content/apple.mp4: 256x416 7 apples, Done. (0.008s)\n",
            "video 1/1 (144/531) /content/apple.mp4: 256x416 7 apples, Done. (0.011s)\n",
            "video 1/1 (145/531) /content/apple.mp4: 256x416 7 apples, Done. (0.011s)\n",
            "video 1/1 (146/531) /content/apple.mp4: 256x416 7 apples, Done. (0.010s)\n",
            "video 1/1 (147/531) /content/apple.mp4: 256x416 7 apples, Done. (0.008s)\n",
            "video 1/1 (148/531) /content/apple.mp4: 256x416 7 apples, Done. (0.010s)\n",
            "video 1/1 (149/531) /content/apple.mp4: 256x416 9 apples, Done. (0.009s)\n",
            "video 1/1 (150/531) /content/apple.mp4: 256x416 9 apples, Done. (0.010s)\n",
            "video 1/1 (151/531) /content/apple.mp4: 256x416 7 apples, Done. (0.010s)\n",
            "video 1/1 (152/531) /content/apple.mp4: 256x416 7 apples, Done. (0.010s)\n",
            "video 1/1 (153/531) /content/apple.mp4: 256x416 9 apples, Done. (0.008s)\n",
            "video 1/1 (154/531) /content/apple.mp4: 256x416 9 apples, Done. (0.011s)\n",
            "video 1/1 (155/531) /content/apple.mp4: 256x416 9 apples, Done. (0.010s)\n",
            "video 1/1 (156/531) /content/apple.mp4: 256x416 9 apples, Done. (0.010s)\n",
            "video 1/1 (157/531) /content/apple.mp4: 256x416 10 apples, Done. (0.008s)\n",
            "video 1/1 (158/531) /content/apple.mp4: 256x416 10 apples, Done. (0.010s)\n",
            "video 1/1 (159/531) /content/apple.mp4: 256x416 10 apples, Done. (0.008s)\n",
            "video 1/1 (160/531) /content/apple.mp4: 256x416 10 apples, Done. (0.010s)\n",
            "video 1/1 (161/531) /content/apple.mp4: 256x416 9 apples, Done. (0.008s)\n",
            "video 1/1 (162/531) /content/apple.mp4: 256x416 9 apples, Done. (0.010s)\n",
            "video 1/1 (163/531) /content/apple.mp4: 256x416 10 apples, Done. (0.008s)\n",
            "video 1/1 (164/531) /content/apple.mp4: 256x416 10 apples, Done. (0.010s)\n",
            "video 1/1 (165/531) /content/apple.mp4: 256x416 8 apples, Done. (0.010s)\n",
            "video 1/1 (166/531) /content/apple.mp4: 256x416 8 apples, Done. (0.010s)\n",
            "video 1/1 (167/531) /content/apple.mp4: 256x416 10 apples, Done. (0.009s)\n",
            "video 1/1 (168/531) /content/apple.mp4: 256x416 10 apples, Done. (0.010s)\n",
            "video 1/1 (169/531) /content/apple.mp4: 256x416 7 apples, Done. (0.011s)\n",
            "video 1/1 (170/531) /content/apple.mp4: 256x416 7 apples, Done. (0.010s)\n",
            "video 1/1 (171/531) /content/apple.mp4: 256x416 7 apples, Done. (0.008s)\n",
            "video 1/1 (172/531) /content/apple.mp4: 256x416 7 apples, Done. (0.010s)\n",
            "video 1/1 (173/531) /content/apple.mp4: 256x416 6 apples, Done. (0.008s)\n",
            "video 1/1 (174/531) /content/apple.mp4: 256x416 6 apples, Done. (0.010s)\n",
            "video 1/1 (175/531) /content/apple.mp4: 256x416 9 apples, Done. (0.008s)\n",
            "video 1/1 (176/531) /content/apple.mp4: 256x416 9 apples, Done. (0.013s)\n",
            "video 1/1 (177/531) /content/apple.mp4: 256x416 8 apples, Done. (0.015s)\n",
            "video 1/1 (178/531) /content/apple.mp4: 256x416 8 apples, Done. (0.010s)\n",
            "video 1/1 (179/531) /content/apple.mp4: 256x416 7 apples, Done. (0.011s)\n",
            "video 1/1 (180/531) /content/apple.mp4: 256x416 7 apples, Done. (0.037s)\n",
            "video 1/1 (181/531) /content/apple.mp4: 256x416 10 apples, Done. (0.010s)\n",
            "video 1/1 (182/531) /content/apple.mp4: 256x416 10 apples, Done. (0.016s)\n",
            "video 1/1 (183/531) /content/apple.mp4: 256x416 9 apples, Done. (0.020s)\n",
            "video 1/1 (184/531) /content/apple.mp4: 256x416 9 apples, Done. (0.026s)\n",
            "video 1/1 (185/531) /content/apple.mp4: 256x416 6 apples, Done. (0.011s)\n",
            "video 1/1 (186/531) /content/apple.mp4: 256x416 6 apples, Done. (0.023s)\n",
            "video 1/1 (187/531) /content/apple.mp4: 256x416 7 apples, Done. (0.009s)\n",
            "video 1/1 (188/531) /content/apple.mp4: 256x416 7 apples, Done. (0.016s)\n",
            "video 1/1 (189/531) /content/apple.mp4: 256x416 7 apples, Done. (0.009s)\n",
            "video 1/1 (190/531) /content/apple.mp4: 256x416 7 apples, Done. (0.010s)\n",
            "video 1/1 (191/531) /content/apple.mp4: 256x416 6 apples, Done. (0.009s)\n",
            "video 1/1 (192/531) /content/apple.mp4: 256x416 6 apples, Done. (0.019s)\n",
            "video 1/1 (193/531) /content/apple.mp4: 256x416 6 apples, Done. (0.010s)\n",
            "video 1/1 (194/531) /content/apple.mp4: 256x416 6 apples, Done. (0.024s)\n",
            "video 1/1 (195/531) /content/apple.mp4: 256x416 6 apples, Done. (0.014s)\n",
            "video 1/1 (196/531) /content/apple.mp4: 256x416 6 apples, Done. (0.023s)\n",
            "video 1/1 (197/531) /content/apple.mp4: 256x416 6 apples, Done. (0.009s)\n",
            "video 1/1 (198/531) /content/apple.mp4: 256x416 6 apples, Done. (0.013s)\n",
            "video 1/1 (199/531) /content/apple.mp4: 256x416 6 apples, Done. (0.009s)\n",
            "video 1/1 (200/531) /content/apple.mp4: 256x416 6 apples, Done. (0.026s)\n",
            "video 1/1 (201/531) /content/apple.mp4: 256x416 5 apples, Done. (0.011s)\n",
            "video 1/1 (202/531) /content/apple.mp4: 256x416 5 apples, Done. (0.020s)\n",
            "video 1/1 (203/531) /content/apple.mp4: 256x416 6 apples, Done. (0.013s)\n",
            "video 1/1 (204/531) /content/apple.mp4: 256x416 6 apples, Done. (0.022s)\n",
            "video 1/1 (205/531) /content/apple.mp4: 256x416 5 apples, Done. (0.010s)\n",
            "video 1/1 (206/531) /content/apple.mp4: 256x416 5 apples, Done. (0.024s)\n",
            "video 1/1 (207/531) /content/apple.mp4: 256x416 5 apples, Done. (0.014s)\n",
            "video 1/1 (208/531) /content/apple.mp4: 256x416 5 apples, Done. (0.033s)\n",
            "video 1/1 (209/531) /content/apple.mp4: 256x416 6 apples, Done. (0.013s)\n",
            "video 1/1 (210/531) /content/apple.mp4: 256x416 6 apples, Done. (0.010s)\n",
            "video 1/1 (211/531) /content/apple.mp4: 256x416 4 apples, Done. (0.008s)\n",
            "video 1/1 (212/531) /content/apple.mp4: 256x416 4 apples, Done. (0.011s)\n",
            "video 1/1 (213/531) /content/apple.mp4: 256x416 4 apples, Done. (0.010s)\n",
            "video 1/1 (214/531) /content/apple.mp4: 256x416 4 apples, Done. (0.010s)\n",
            "video 1/1 (215/531) /content/apple.mp4: 256x416 6 apples, Done. (0.008s)\n",
            "video 1/1 (216/531) /content/apple.mp4: 256x416 6 apples, Done. (0.010s)\n",
            "video 1/1 (217/531) /content/apple.mp4: 256x416 Done. (0.008s)\n",
            "video 1/1 (218/531) /content/apple.mp4: 256x416 Done. (0.010s)\n",
            "video 1/1 (219/531) /content/apple.mp4: 256x416 4 apples, Done. (0.009s)\n",
            "video 1/1 (220/531) /content/apple.mp4: 256x416 4 apples, Done. (0.010s)\n",
            "video 1/1 (221/531) /content/apple.mp4: 256x416 1 apple, Done. (0.008s)\n",
            "video 1/1 (222/531) /content/apple.mp4: 256x416 1 apple, Done. (0.010s)\n",
            "video 1/1 (223/531) /content/apple.mp4: 256x416 1 apple, Done. (0.008s)\n",
            "video 1/1 (224/531) /content/apple.mp4: 256x416 1 apple, Done. (0.010s)\n",
            "video 1/1 (225/531) /content/apple.mp4: 256x416 1 apple, Done. (0.011s)\n",
            "video 1/1 (226/531) /content/apple.mp4: 256x416 1 apple, Done. (0.010s)\n",
            "video 1/1 (227/531) /content/apple.mp4: 256x416 Done. (0.009s)\n",
            "video 1/1 (228/531) /content/apple.mp4: 256x416 Done. (0.010s)\n",
            "video 1/1 (229/531) /content/apple.mp4: 256x416 Done. (0.008s)\n",
            "video 1/1 (230/531) /content/apple.mp4: 256x416 Done. (0.010s)\n",
            "video 1/1 (231/531) /content/apple.mp4: 256x416 Done. (0.008s)\n",
            "video 1/1 (232/531) /content/apple.mp4: 256x416 Done. (0.010s)\n",
            "video 1/1 (233/531) /content/apple.mp4: 256x416 Done. (0.008s)\n",
            "video 1/1 (234/531) /content/apple.mp4: 256x416 Done. (0.012s)\n",
            "video 1/1 (235/531) /content/apple.mp4: 256x416 Done. (0.008s)\n",
            "video 1/1 (236/531) /content/apple.mp4: 256x416 Done. (0.009s)\n",
            "video 1/1 (237/531) /content/apple.mp4: 256x416 Done. (0.007s)\n",
            "video 1/1 (238/531) /content/apple.mp4: 256x416 Done. (0.010s)\n",
            "video 1/1 (239/531) /content/apple.mp4: 256x416 Done. (0.008s)\n",
            "video 1/1 (240/531) /content/apple.mp4: 256x416 Done. (0.010s)\n",
            "video 1/1 (241/531) /content/apple.mp4: 256x416 Done. (0.008s)\n",
            "video 1/1 (242/531) /content/apple.mp4: 256x416 Done. (0.010s)\n",
            "video 1/1 (243/531) /content/apple.mp4: 256x416 Done. (0.008s)\n",
            "video 1/1 (244/531) /content/apple.mp4: 256x416 Done. (0.010s)\n",
            "video 1/1 (245/531) /content/apple.mp4: 256x416 Done. (0.008s)\n",
            "video 1/1 (246/531) /content/apple.mp4: 256x416 Done. (0.010s)\n",
            "video 1/1 (247/531) /content/apple.mp4: 256x416 Done. (0.009s)\n",
            "video 1/1 (248/531) /content/apple.mp4: 256x416 Done. (0.010s)\n",
            "video 1/1 (249/531) /content/apple.mp4: 256x416 Done. (0.008s)\n",
            "video 1/1 (250/531) /content/apple.mp4: 256x416 Done. (0.010s)\n",
            "video 1/1 (251/531) /content/apple.mp4: 256x416 Done. (0.008s)\n",
            "video 1/1 (252/531) /content/apple.mp4: 256x416 Done. (0.011s)\n",
            "video 1/1 (253/531) /content/apple.mp4: 256x416 Done. (0.008s)\n",
            "video 1/1 (254/531) /content/apple.mp4: 256x416 Done. (0.010s)\n",
            "video 1/1 (255/531) /content/apple.mp4: 256x416 Done. (0.008s)\n",
            "video 1/1 (256/531) /content/apple.mp4: 256x416 Done. (0.010s)\n",
            "video 1/1 (257/531) /content/apple.mp4: 256x416 1 apple, Done. (0.011s)\n",
            "video 1/1 (258/531) /content/apple.mp4: 256x416 1 apple, Done. (0.010s)\n",
            "video 1/1 (259/531) /content/apple.mp4: 256x416 1 apple, Done. (0.008s)\n",
            "video 1/1 (260/531) /content/apple.mp4: 256x416 1 apple, Done. (0.010s)\n",
            "video 1/1 (261/531) /content/apple.mp4: 256x416 1 apple, Done. (0.008s)\n",
            "video 1/1 (262/531) /content/apple.mp4: 256x416 1 apple, Done. (0.010s)\n",
            "video 1/1 (263/531) /content/apple.mp4: 256x416 2 apples, Done. (0.011s)\n",
            "video 1/1 (264/531) /content/apple.mp4: 256x416 2 apples, Done. (0.010s)\n",
            "video 1/1 (265/531) /content/apple.mp4: 256x416 1 apple, Done. (0.009s)\n",
            "video 1/1 (266/531) /content/apple.mp4: 256x416 1 apple, Done. (0.010s)\n",
            "video 1/1 (267/531) /content/apple.mp4: 256x416 2 apples, Done. (0.008s)\n",
            "video 1/1 (268/531) /content/apple.mp4: 256x416 2 apples, Done. (0.010s)\n",
            "video 1/1 (269/531) /content/apple.mp4: 256x416 2 apples, Done. (0.007s)\n",
            "video 1/1 (270/531) /content/apple.mp4: 256x416 2 apples, Done. (0.011s)\n",
            "video 1/1 (271/531) /content/apple.mp4: 256x416 1 apple, Done. (0.008s)\n",
            "video 1/1 (272/531) /content/apple.mp4: 256x416 1 apple, Done. (0.010s)\n",
            "video 1/1 (273/531) /content/apple.mp4: 256x416 2 apples, Done. (0.009s)\n",
            "video 1/1 (274/531) /content/apple.mp4: 256x416 2 apples, Done. (0.010s)\n",
            "video 1/1 (275/531) /content/apple.mp4: 256x416 2 apples, Done. (0.008s)\n",
            "video 1/1 (276/531) /content/apple.mp4: 256x416 2 apples, Done. (0.016s)\n",
            "video 1/1 (277/531) /content/apple.mp4: 256x416 1 apple, Done. (0.008s)\n",
            "video 1/1 (278/531) /content/apple.mp4: 256x416 1 apple, Done. (0.010s)\n",
            "video 1/1 (279/531) /content/apple.mp4: 256x416 4 apples, Done. (0.008s)\n",
            "video 1/1 (280/531) /content/apple.mp4: 256x416 4 apples, Done. (0.010s)\n",
            "video 1/1 (281/531) /content/apple.mp4: 256x416 4 apples, Done. (0.008s)\n",
            "video 1/1 (282/531) /content/apple.mp4: 256x416 4 apples, Done. (0.010s)\n",
            "video 1/1 (283/531) /content/apple.mp4: 256x416 4 apples, Done. (0.008s)\n",
            "video 1/1 (284/531) /content/apple.mp4: 256x416 4 apples, Done. (0.010s)\n",
            "video 1/1 (285/531) /content/apple.mp4: 256x416 3 apples, Done. (0.010s)\n",
            "video 1/1 (286/531) /content/apple.mp4: 256x416 3 apples, Done. (0.011s)\n",
            "video 1/1 (287/531) /content/apple.mp4: 256x416 5 apples, Done. (0.008s)\n",
            "video 1/1 (288/531) /content/apple.mp4: 256x416 5 apples, Done. (0.010s)\n",
            "video 1/1 (289/531) /content/apple.mp4: 256x416 5 apples, Done. (0.008s)\n",
            "video 1/1 (290/531) /content/apple.mp4: 256x416 5 apples, Done. (0.011s)\n",
            "video 1/1 (291/531) /content/apple.mp4: 256x416 7 apples, Done. (0.007s)\n",
            "video 1/1 (292/531) /content/apple.mp4: 256x416 7 apples, Done. (0.010s)\n",
            "video 1/1 (293/531) /content/apple.mp4: 256x416 7 apples, Done. (0.008s)\n",
            "video 1/1 (294/531) /content/apple.mp4: 256x416 7 apples, Done. (0.010s)\n",
            "video 1/1 (295/531) /content/apple.mp4: 256x416 6 apples, Done. (0.010s)\n",
            "video 1/1 (296/531) /content/apple.mp4: 256x416 6 apples, Done. (0.010s)\n",
            "video 1/1 (297/531) /content/apple.mp4: 256x416 8 apples, Done. (0.008s)\n",
            "video 1/1 (298/531) /content/apple.mp4: 256x416 8 apples, Done. (0.010s)\n",
            "video 1/1 (299/531) /content/apple.mp4: 256x416 6 apples, Done. (0.008s)\n",
            "video 1/1 (300/531) /content/apple.mp4: 256x416 6 apples, Done. (0.010s)\n",
            "video 1/1 (301/531) /content/apple.mp4: 256x416 4 apples, Done. (0.010s)\n",
            "video 1/1 (302/531) /content/apple.mp4: 256x416 4 apples, Done. (0.010s)\n",
            "video 1/1 (303/531) /content/apple.mp4: 256x416 3 apples, Done. (0.008s)\n",
            "video 1/1 (304/531) /content/apple.mp4: 256x416 3 apples, Done. (0.011s)\n",
            "video 1/1 (305/531) /content/apple.mp4: 256x416 5 apples, Done. (0.007s)\n",
            "video 1/1 (306/531) /content/apple.mp4: 256x416 5 apples, Done. (0.010s)\n",
            "video 1/1 (307/531) /content/apple.mp4: 256x416 4 apples, Done. (0.008s)\n",
            "video 1/1 (308/531) /content/apple.mp4: 256x416 4 apples, Done. (0.010s)\n",
            "video 1/1 (309/531) /content/apple.mp4: 256x416 2 apples, Done. (0.009s)\n",
            "video 1/1 (310/531) /content/apple.mp4: 256x416 2 apples, Done. (0.010s)\n",
            "video 1/1 (311/531) /content/apple.mp4: 256x416 3 apples, Done. (0.008s)\n",
            "video 1/1 (312/531) /content/apple.mp4: 256x416 3 apples, Done. (0.015s)\n",
            "video 1/1 (313/531) /content/apple.mp4: 256x416 2 apples, Done. (0.008s)\n",
            "video 1/1 (314/531) /content/apple.mp4: 256x416 2 apples, Done. (0.010s)\n",
            "video 1/1 (315/531) /content/apple.mp4: 256x416 4 apples, Done. (0.008s)\n",
            "video 1/1 (316/531) /content/apple.mp4: 256x416 4 apples, Done. (0.010s)\n",
            "video 1/1 (317/531) /content/apple.mp4: 256x416 6 apples, Done. (0.008s)\n",
            "video 1/1 (318/531) /content/apple.mp4: 256x416 6 apples, Done. (0.010s)\n",
            "video 1/1 (319/531) /content/apple.mp4: 256x416 4 apples, Done. (0.008s)\n",
            "video 1/1 (320/531) /content/apple.mp4: 256x416 4 apples, Done. (0.010s)\n",
            "video 1/1 (321/531) /content/apple.mp4: 256x416 6 apples, Done. (0.008s)\n",
            "video 1/1 (322/531) /content/apple.mp4: 256x416 6 apples, Done. (0.010s)\n",
            "video 1/1 (323/531) /content/apple.mp4: 256x416 5 apples, Done. (0.008s)\n",
            "video 1/1 (324/531) /content/apple.mp4: 256x416 5 apples, Done. (0.010s)\n",
            "video 1/1 (325/531) /content/apple.mp4: 256x416 8 apples, Done. (0.008s)\n",
            "video 1/1 (326/531) /content/apple.mp4: 256x416 8 apples, Done. (0.010s)\n",
            "video 1/1 (327/531) /content/apple.mp4: 256x416 7 apples, Done. (0.008s)\n",
            "video 1/1 (328/531) /content/apple.mp4: 256x416 7 apples, Done. (0.010s)\n",
            "video 1/1 (329/531) /content/apple.mp4: 256x416 7 apples, Done. (0.008s)\n",
            "video 1/1 (330/531) /content/apple.mp4: 256x416 7 apples, Done. (0.010s)\n",
            "video 1/1 (331/531) /content/apple.mp4: 256x416 7 apples, Done. (0.008s)\n",
            "video 1/1 (332/531) /content/apple.mp4: 256x416 7 apples, Done. (0.011s)\n",
            "video 1/1 (333/531) /content/apple.mp4: 256x416 6 apples, Done. (0.008s)\n",
            "video 1/1 (334/531) /content/apple.mp4: 256x416 6 apples, Done. (0.010s)\n",
            "video 1/1 (335/531) /content/apple.mp4: 256x416 5 apples, Done. (0.008s)\n",
            "video 1/1 (336/531) /content/apple.mp4: 256x416 5 apples, Done. (0.010s)\n",
            "video 1/1 (337/531) /content/apple.mp4: 256x416 6 apples, Done. (0.008s)\n",
            "video 1/1 (338/531) /content/apple.mp4: 256x416 6 apples, Done. (0.010s)\n",
            "video 1/1 (339/531) /content/apple.mp4: 256x416 5 apples, Done. (0.008s)\n",
            "video 1/1 (340/531) /content/apple.mp4: 256x416 5 apples, Done. (0.010s)\n",
            "video 1/1 (341/531) /content/apple.mp4: 256x416 6 apples, Done. (0.008s)\n",
            "video 1/1 (342/531) /content/apple.mp4: 256x416 6 apples, Done. (0.010s)\n",
            "video 1/1 (343/531) /content/apple.mp4: 256x416 6 apples, Done. (0.008s)\n",
            "video 1/1 (344/531) /content/apple.mp4: 256x416 6 apples, Done. (0.010s)\n",
            "video 1/1 (345/531) /content/apple.mp4: 256x416 7 apples, Done. (0.008s)\n",
            "video 1/1 (346/531) /content/apple.mp4: 256x416 7 apples, Done. (0.010s)\n",
            "video 1/1 (347/531) /content/apple.mp4: 256x416 7 apples, Done. (0.008s)\n",
            "video 1/1 (348/531) /content/apple.mp4: 256x416 7 apples, Done. (0.011s)\n",
            "video 1/1 (349/531) /content/apple.mp4: 256x416 6 apples, Done. (0.008s)\n",
            "video 1/1 (350/531) /content/apple.mp4: 256x416 6 apples, Done. (0.010s)\n",
            "video 1/1 (351/531) /content/apple.mp4: 256x416 6 apples, Done. (0.008s)\n",
            "video 1/1 (352/531) /content/apple.mp4: 256x416 6 apples, Done. (0.012s)\n",
            "video 1/1 (353/531) /content/apple.mp4: 256x416 9 apples, Done. (0.012s)\n",
            "video 1/1 (354/531) /content/apple.mp4: 256x416 9 apples, Done. (0.010s)\n",
            "video 1/1 (355/531) /content/apple.mp4: 256x416 9 apples, Done. (0.010s)\n",
            "video 1/1 (356/531) /content/apple.mp4: 256x416 9 apples, Done. (0.011s)\n",
            "video 1/1 (357/531) /content/apple.mp4: 256x416 9 apples, Done. (0.008s)\n",
            "video 1/1 (358/531) /content/apple.mp4: 256x416 9 apples, Done. (0.010s)\n",
            "video 1/1 (359/531) /content/apple.mp4: 256x416 9 apples, Done. (0.008s)\n",
            "video 1/1 (360/531) /content/apple.mp4: 256x416 9 apples, Done. (0.010s)\n",
            "video 1/1 (361/531) /content/apple.mp4: 256x416 10 apples, Done. (0.012s)\n",
            "video 1/1 (362/531) /content/apple.mp4: 256x416 10 apples, Done. (0.010s)\n",
            "video 1/1 (363/531) /content/apple.mp4: 256x416 9 apples, Done. (0.008s)\n",
            "video 1/1 (364/531) /content/apple.mp4: 256x416 9 apples, Done. (0.010s)\n",
            "video 1/1 (365/531) /content/apple.mp4: 256x416 9 apples, Done. (0.008s)\n",
            "video 1/1 (366/531) /content/apple.mp4: 256x416 9 apples, Done. (0.010s)\n",
            "video 1/1 (367/531) /content/apple.mp4: 256x416 9 apples, Done. (0.008s)\n",
            "video 1/1 (368/531) /content/apple.mp4: 256x416 9 apples, Done. (0.010s)\n",
            "video 1/1 (369/531) /content/apple.mp4: 256x416 9 apples, Done. (0.008s)\n",
            "video 1/1 (370/531) /content/apple.mp4: 256x416 9 apples, Done. (0.011s)\n",
            "video 1/1 (371/531) /content/apple.mp4: 256x416 9 apples, Done. (0.011s)\n",
            "video 1/1 (372/531) /content/apple.mp4: 256x416 9 apples, Done. (0.010s)\n",
            "video 1/1 (373/531) /content/apple.mp4: 256x416 9 apples, Done. (0.008s)\n",
            "video 1/1 (374/531) /content/apple.mp4: 256x416 9 apples, Done. (0.010s)\n",
            "video 1/1 (375/531) /content/apple.mp4: 256x416 9 apples, Done. (0.008s)\n",
            "video 1/1 (376/531) /content/apple.mp4: 256x416 9 apples, Done. (0.010s)\n",
            "video 1/1 (377/531) /content/apple.mp4: 256x416 8 apples, Done. (0.008s)\n",
            "video 1/1 (378/531) /content/apple.mp4: 256x416 8 apples, Done. (0.010s)\n",
            "video 1/1 (379/531) /content/apple.mp4: 256x416 9 apples, Done. (0.008s)\n",
            "video 1/1 (380/531) /content/apple.mp4: 256x416 9 apples, Done. (0.011s)\n",
            "video 1/1 (381/531) /content/apple.mp4: 256x416 11 apples, Done. (0.011s)\n",
            "video 1/1 (382/531) /content/apple.mp4: 256x416 11 apples, Done. (0.010s)\n",
            "video 1/1 (383/531) /content/apple.mp4: 256x416 12 apples, Done. (0.008s)\n",
            "video 1/1 (384/531) /content/apple.mp4: 256x416 12 apples, Done. (0.010s)\n",
            "video 1/1 (385/531) /content/apple.mp4: 256x416 12 apples, Done. (0.008s)\n",
            "video 1/1 (386/531) /content/apple.mp4: 256x416 12 apples, Done. (0.010s)\n",
            "video 1/1 (387/531) /content/apple.mp4: 256x416 12 apples, Done. (0.008s)\n",
            "video 1/1 (388/531) /content/apple.mp4: 256x416 12 apples, Done. (0.010s)\n",
            "video 1/1 (389/531) /content/apple.mp4: 256x416 12 apples, Done. (0.008s)\n",
            "video 1/1 (390/531) /content/apple.mp4: 256x416 12 apples, Done. (0.016s)\n",
            "video 1/1 (391/531) /content/apple.mp4: 256x416 12 apples, Done. (0.008s)\n",
            "video 1/1 (392/531) /content/apple.mp4: 256x416 12 apples, Done. (0.014s)\n",
            "video 1/1 (393/531) /content/apple.mp4: 256x416 12 apples, Done. (0.008s)\n",
            "video 1/1 (394/531) /content/apple.mp4: 256x416 12 apples, Done. (0.011s)\n",
            "video 1/1 (395/531) /content/apple.mp4: 256x416 12 apples, Done. (0.008s)\n",
            "video 1/1 (396/531) /content/apple.mp4: 256x416 12 apples, Done. (0.011s)\n",
            "video 1/1 (397/531) /content/apple.mp4: 256x416 12 apples, Done. (0.008s)\n",
            "video 1/1 (398/531) /content/apple.mp4: 256x416 12 apples, Done. (0.011s)\n",
            "video 1/1 (399/531) /content/apple.mp4: 256x416 12 apples, Done. (0.008s)\n",
            "video 1/1 (400/531) /content/apple.mp4: 256x416 12 apples, Done. (0.010s)\n",
            "video 1/1 (401/531) /content/apple.mp4: 256x416 12 apples, Done. (0.008s)\n",
            "video 1/1 (402/531) /content/apple.mp4: 256x416 12 apples, Done. (0.010s)\n",
            "video 1/1 (403/531) /content/apple.mp4: 256x416 12 apples, Done. (0.013s)\n",
            "video 1/1 (404/531) /content/apple.mp4: 256x416 12 apples, Done. (0.027s)\n",
            "video 1/1 (405/531) /content/apple.mp4: 256x416 12 apples, Done. (0.010s)\n",
            "video 1/1 (406/531) /content/apple.mp4: 256x416 12 apples, Done. (0.029s)\n",
            "video 1/1 (407/531) /content/apple.mp4: 256x416 12 apples, Done. (0.009s)\n",
            "video 1/1 (408/531) /content/apple.mp4: 256x416 12 apples, Done. (0.016s)\n",
            "video 1/1 (409/531) /content/apple.mp4: 256x416 12 apples, Done. (0.010s)\n",
            "video 1/1 (410/531) /content/apple.mp4: 256x416 12 apples, Done. (0.024s)\n",
            "video 1/1 (411/531) /content/apple.mp4: 256x416 12 apples, Done. (0.010s)\n",
            "video 1/1 (412/531) /content/apple.mp4: 256x416 12 apples, Done. (0.025s)\n",
            "video 1/1 (413/531) /content/apple.mp4: 256x416 12 apples, Done. (0.010s)\n",
            "video 1/1 (414/531) /content/apple.mp4: 256x416 12 apples, Done. (0.010s)\n",
            "video 1/1 (415/531) /content/apple.mp4: 256x416 12 apples, Done. (0.011s)\n",
            "video 1/1 (416/531) /content/apple.mp4: 256x416 12 apples, Done. (0.023s)\n",
            "video 1/1 (417/531) /content/apple.mp4: 256x416 10 apples, Done. (0.009s)\n",
            "video 1/1 (418/531) /content/apple.mp4: 256x416 10 apples, Done. (0.022s)\n",
            "video 1/1 (419/531) /content/apple.mp4: 256x416 6 apples, Done. (0.009s)\n",
            "video 1/1 (420/531) /content/apple.mp4: 256x416 6 apples, Done. (0.016s)\n",
            "video 1/1 (421/531) /content/apple.mp4: 256x416 9 apples, Done. (0.011s)\n",
            "video 1/1 (422/531) /content/apple.mp4: 256x416 9 apples, Done. (0.023s)\n",
            "video 1/1 (423/531) /content/apple.mp4: 256x416 8 apples, Done. (0.009s)\n",
            "video 1/1 (424/531) /content/apple.mp4: 256x416 8 apples, Done. (0.023s)\n",
            "video 1/1 (425/531) /content/apple.mp4: 256x416 8 apples, Done. (0.010s)\n",
            "video 1/1 (426/531) /content/apple.mp4: 256x416 8 apples, Done. (0.017s)\n",
            "video 1/1 (427/531) /content/apple.mp4: 256x416 8 apples, Done. (0.015s)\n",
            "video 1/1 (428/531) /content/apple.mp4: 256x416 8 apples, Done. (0.019s)\n",
            "video 1/1 (429/531) /content/apple.mp4: 256x416 8 apples, Done. (0.012s)\n",
            "video 1/1 (430/531) /content/apple.mp4: 256x416 8 apples, Done. (0.011s)\n",
            "video 1/1 (431/531) /content/apple.mp4: 256x416 8 apples, Done. (0.014s)\n",
            "video 1/1 (432/531) /content/apple.mp4: 256x416 8 apples, Done. (0.019s)\n",
            "video 1/1 (433/531) /content/apple.mp4: 256x416 8 apples, Done. (0.012s)\n",
            "video 1/1 (434/531) /content/apple.mp4: 256x416 8 apples, Done. (0.010s)\n",
            "video 1/1 (435/531) /content/apple.mp4: 256x416 8 apples, Done. (0.009s)\n",
            "video 1/1 (436/531) /content/apple.mp4: 256x416 8 apples, Done. (0.012s)\n",
            "video 1/1 (437/531) /content/apple.mp4: 256x416 8 apples, Done. (0.008s)\n",
            "video 1/1 (438/531) /content/apple.mp4: 256x416 8 apples, Done. (0.011s)\n",
            "video 1/1 (439/531) /content/apple.mp4: 256x416 7 apples, Done. (0.008s)\n",
            "video 1/1 (440/531) /content/apple.mp4: 256x416 7 apples, Done. (0.010s)\n",
            "video 1/1 (441/531) /content/apple.mp4: 256x416 10 apples, Done. (0.008s)\n",
            "video 1/1 (442/531) /content/apple.mp4: 256x416 10 apples, Done. (0.010s)\n",
            "video 1/1 (443/531) /content/apple.mp4: 256x416 11 apples, Done. (0.008s)\n",
            "video 1/1 (444/531) /content/apple.mp4: 256x416 11 apples, Done. (0.010s)\n",
            "video 1/1 (445/531) /content/apple.mp4: 256x416 13 apples, Done. (0.008s)\n",
            "video 1/1 (446/531) /content/apple.mp4: 256x416 13 apples, Done. (0.016s)\n",
            "video 1/1 (447/531) /content/apple.mp4: 256x416 13 apples, Done. (0.008s)\n",
            "video 1/1 (448/531) /content/apple.mp4: 256x416 13 apples, Done. (0.010s)\n",
            "video 1/1 (449/531) /content/apple.mp4: 256x416 14 apples, Done. (0.008s)\n",
            "video 1/1 (450/531) /content/apple.mp4: 256x416 14 apples, Done. (0.010s)\n",
            "video 1/1 (451/531) /content/apple.mp4: 256x416 13 apples, Done. (0.008s)\n",
            "video 1/1 (452/531) /content/apple.mp4: 256x416 13 apples, Done. (0.010s)\n",
            "video 1/1 (453/531) /content/apple.mp4: 256x416 13 apples, Done. (0.010s)\n",
            "video 1/1 (454/531) /content/apple.mp4: 256x416 13 apples, Done. (0.010s)\n",
            "video 1/1 (455/531) /content/apple.mp4: 256x416 13 apples, Done. (0.008s)\n",
            "video 1/1 (456/531) /content/apple.mp4: 256x416 13 apples, Done. (0.010s)\n",
            "video 1/1 (457/531) /content/apple.mp4: 256x416 13 apples, Done. (0.008s)\n",
            "video 1/1 (458/531) /content/apple.mp4: 256x416 13 apples, Done. (0.010s)\n",
            "video 1/1 (459/531) /content/apple.mp4: 256x416 13 apples, Done. (0.010s)\n",
            "video 1/1 (460/531) /content/apple.mp4: 256x416 13 apples, Done. (0.010s)\n",
            "video 1/1 (461/531) /content/apple.mp4: 256x416 13 apples, Done. (0.008s)\n",
            "video 1/1 (462/531) /content/apple.mp4: 256x416 13 apples, Done. (0.011s)\n",
            "video 1/1 (463/531) /content/apple.mp4: 256x416 13 apples, Done. (0.008s)\n",
            "video 1/1 (464/531) /content/apple.mp4: 256x416 13 apples, Done. (0.010s)\n",
            "video 1/1 (465/531) /content/apple.mp4: 256x416 13 apples, Done. (0.016s)\n",
            "video 1/1 (466/531) /content/apple.mp4: 256x416 13 apples, Done. (0.010s)\n",
            "video 1/1 (467/531) /content/apple.mp4: 256x416 13 apples, Done. (0.008s)\n",
            "video 1/1 (468/531) /content/apple.mp4: 256x416 13 apples, Done. (0.012s)\n",
            "video 1/1 (469/531) /content/apple.mp4: 256x416 14 apples, Done. (0.008s)\n",
            "video 1/1 (470/531) /content/apple.mp4: 256x416 14 apples, Done. (0.010s)\n",
            "video 1/1 (471/531) /content/apple.mp4: 256x416 13 apples, Done. (0.008s)\n",
            "video 1/1 (472/531) /content/apple.mp4: 256x416 13 apples, Done. (0.009s)\n",
            "video 1/1 (473/531) /content/apple.mp4: 256x416 13 apples, Done. (0.007s)\n",
            "video 1/1 (474/531) /content/apple.mp4: 256x416 13 apples, Done. (0.010s)\n",
            "video 1/1 (475/531) /content/apple.mp4: 256x416 13 apples, Done. (0.008s)\n",
            "video 1/1 (476/531) /content/apple.mp4: 256x416 13 apples, Done. (0.010s)\n",
            "video 1/1 (477/531) /content/apple.mp4: 256x416 11 apples, Done. (0.012s)\n",
            "video 1/1 (478/531) /content/apple.mp4: 256x416 11 apples, Done. (0.010s)\n",
            "video 1/1 (479/531) /content/apple.mp4: 256x416 12 apples, Done. (0.008s)\n",
            "video 1/1 (480/531) /content/apple.mp4: 256x416 12 apples, Done. (0.010s)\n",
            "video 1/1 (481/531) /content/apple.mp4: 256x416 11 apples, Done. (0.008s)\n",
            "video 1/1 (482/531) /content/apple.mp4: 256x416 11 apples, Done. (0.010s)\n",
            "video 1/1 (483/531) /content/apple.mp4: 256x416 10 apples, Done. (0.008s)\n",
            "video 1/1 (484/531) /content/apple.mp4: 256x416 10 apples, Done. (0.010s)\n",
            "video 1/1 (485/531) /content/apple.mp4: 256x416 10 apples, Done. (0.008s)\n",
            "video 1/1 (486/531) /content/apple.mp4: 256x416 10 apples, Done. (0.010s)\n",
            "video 1/1 (487/531) /content/apple.mp4: 256x416 11 apples, Done. (0.008s)\n",
            "video 1/1 (488/531) /content/apple.mp4: 256x416 11 apples, Done. (0.010s)\n",
            "video 1/1 (489/531) /content/apple.mp4: 256x416 11 apples, Done. (0.008s)\n",
            "video 1/1 (490/531) /content/apple.mp4: 256x416 11 apples, Done. (0.011s)\n",
            "video 1/1 (491/531) /content/apple.mp4: 256x416 11 apples, Done. (0.010s)\n",
            "video 1/1 (492/531) /content/apple.mp4: 256x416 11 apples, Done. (0.010s)\n",
            "video 1/1 (493/531) /content/apple.mp4: 256x416 11 apples, Done. (0.008s)\n",
            "video 1/1 (494/531) /content/apple.mp4: 256x416 11 apples, Done. (0.010s)\n",
            "video 1/1 (495/531) /content/apple.mp4: 256x416 11 apples, Done. (0.008s)\n",
            "video 1/1 (496/531) /content/apple.mp4: 256x416 11 apples, Done. (0.010s)\n",
            "video 1/1 (497/531) /content/apple.mp4: 256x416 11 apples, Done. (0.008s)\n",
            "video 1/1 (498/531) /content/apple.mp4: 256x416 11 apples, Done. (0.010s)\n",
            "video 1/1 (499/531) /content/apple.mp4: 256x416 11 apples, Done. (0.008s)\n",
            "video 1/1 (500/531) /content/apple.mp4: 256x416 11 apples, Done. (0.010s)\n",
            "video 1/1 (501/531) /content/apple.mp4: 256x416 11 apples, Done. (0.010s)\n",
            "video 1/1 (502/531) /content/apple.mp4: 256x416 11 apples, Done. (0.015s)\n",
            "video 1/1 (503/531) /content/apple.mp4: 256x416 11 apples, Done. (0.008s)\n",
            "video 1/1 (504/531) /content/apple.mp4: 256x416 11 apples, Done. (0.011s)\n",
            "video 1/1 (505/531) /content/apple.mp4: 256x416 12 apples, Done. (0.008s)\n",
            "video 1/1 (506/531) /content/apple.mp4: 256x416 12 apples, Done. (0.010s)\n",
            "video 1/1 (507/531) /content/apple.mp4: 256x416 13 apples, Done. (0.008s)\n",
            "video 1/1 (508/531) /content/apple.mp4: 256x416 13 apples, Done. (0.010s)\n",
            "video 1/1 (509/531) /content/apple.mp4: 256x416 13 apples, Done. (0.008s)\n",
            "video 1/1 (510/531) /content/apple.mp4: 256x416 13 apples, Done. (0.012s)\n",
            "video 1/1 (511/531) /content/apple.mp4: 256x416 14 apples, Done. (0.010s)\n",
            "video 1/1 (512/531) /content/apple.mp4: 256x416 14 apples, Done. (0.010s)\n",
            "video 1/1 (513/531) /content/apple.mp4: 256x416 13 apples, Done. (0.008s)\n",
            "video 1/1 (514/531) /content/apple.mp4: 256x416 13 apples, Done. (0.010s)\n",
            "video 1/1 (515/531) /content/apple.mp4: 256x416 13 apples, Done. (0.008s)\n",
            "video 1/1 (516/531) /content/apple.mp4: 256x416 13 apples, Done. (0.010s)\n",
            "video 1/1 (517/531) /content/apple.mp4: 256x416 13 apples, Done. (0.008s)\n",
            "video 1/1 (518/531) /content/apple.mp4: 256x416 13 apples, Done. (0.010s)\n",
            "video 1/1 (519/531) /content/apple.mp4: 256x416 13 apples, Done. (0.010s)\n",
            "video 1/1 (520/531) /content/apple.mp4: 256x416 13 apples, Done. (0.011s)\n",
            "video 1/1 (521/531) /content/apple.mp4: 256x416 14 apples, Done. (0.008s)\n",
            "video 1/1 (522/531) /content/apple.mp4: 256x416 14 apples, Done. (0.011s)\n",
            "video 1/1 (523/531) /content/apple.mp4: 256x416 12 apples, Done. (0.008s)\n",
            "video 1/1 (524/531) /content/apple.mp4: 256x416 12 apples, Done. (0.017s)\n",
            "video 1/1 (525/531) /content/apple.mp4: 256x416 13 apples, Done. (0.010s)\n",
            "video 1/1 (526/531) /content/apple.mp4: 256x416 13 apples, Done. (0.010s)\n",
            "video 1/1 (527/531) /content/apple.mp4: 256x416 12 apples, Done. (0.009s)\n",
            "video 1/1 (528/531) /content/apple.mp4: 256x416 12 apples, Done. (0.011s)\n",
            "video 1/1 (529/531) /content/apple.mp4: 256x416 12 apples, Done. (0.009s)\n",
            "video 1/1 (530/531) /content/apple.mp4: 256x416 12 apples, Done. (0.010s)\n",
            "video 1/1 (531/531) /content/apple.mp4: 256x416 12 apples, Done. (0.008s)\n",
            "Speed: 0.5ms pre-process, 10.3ms inference, 1.4ms NMS per image at shape (1, 3, 416, 416)\n",
            "Results saved to \u001b[1mruns/detect/exp2\u001b[0m\n"
          ]
        }
      ]
    },
    {
      "cell_type": "code",
      "metadata": {
        "id": "odKEqYtTgbRc"
      },
      "source": [
        "#display inference on ALL test images\n",
        "#this looks much better with longer training above\n",
        "\n",
        "import glob\n",
        "from IPython.display import Image, display\n",
        "\n",
        "for imageName in glob.glob('/content/yolov5/runs/detect/exp/*.jpg'): #assuming JPG\n",
        "    display(Image(filename=imageName))\n",
        "    print(\"\\n\")"
      ],
      "execution_count": null,
      "outputs": []
    },
    {
      "cell_type": "markdown",
      "metadata": {
        "id": "_uPq9mVgiBql"
      },
      "source": [
        "# Export Trained Weights for Future Inference\n",
        "\n",
        "Now that you have trained your custom detector, you can export the trained weights you have made here for inference on your device elsewhere"
      ]
    },
    {
      "cell_type": "code",
      "metadata": {
        "id": "YH4CTzDRh00g",
        "colab": {
          "base_uri": "https://localhost:8080/"
        },
        "outputId": "dcac05aa-7bb2-40bb-d1ba-cf8b2d30a4f2"
      },
      "source": [
        "from google.colab import drive\n",
        "drive.mount('/content/gdrive')"
      ],
      "execution_count": null,
      "outputs": [
        {
          "output_type": "stream",
          "text": [
            "Mounted at /content/gdrive\n"
          ],
          "name": "stdout"
        }
      ]
    },
    {
      "cell_type": "code",
      "metadata": {
        "id": "1x_wg3VeiXMW"
      },
      "source": [
        "%cp /content/yolov5/runs/train/yolov5s_results/weights/best.pt /content/gdrive/My\\ Drive"
      ],
      "execution_count": null,
      "outputs": []
    },
    {
      "cell_type": "markdown",
      "metadata": {
        "id": "LVpCFeU-K4gb"
      },
      "source": [
        "## Congrats!\n",
        "\n",
        "Hope you enjoyed this!\n",
        "\n",
        "--Team [Roboflow](https://roboflow.ai)"
      ]
    }
  ]
}